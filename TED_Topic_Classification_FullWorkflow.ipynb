{
 "cells": [
  {
   "cell_type": "markdown",
   "metadata": {
    "id": "FcbhLhMkwfKr"
   },
   "source": [
    "# TED Talk Topic Classification"
   ]
  },
  {
   "cell_type": "markdown",
   "metadata": {
    "id": "8wGoXblmwgAZ"
   },
   "source": [
    "## Data Preprocessing"
   ]
  },
  {
   "cell_type": "markdown",
   "metadata": {
    "id": "RMPizuZuoF0I"
   },
   "source": [
    "### Reading in the data and labelling observations"
   ]
  },
  {
   "cell_type": "markdown",
   "metadata": {
    "id": "7fkrpG_rwgMJ"
   },
   "source": [
    "Standard imports"
   ]
  },
  {
   "cell_type": "code",
   "execution_count": 1,
   "metadata": {
    "ExecuteTime": {
     "end_time": "2020-11-14T12:08:25.147761Z",
     "start_time": "2020-11-14T12:08:13.180117Z"
    },
    "id": "A6931kvPCMF5"
   },
   "outputs": [],
   "source": [
    "import numpy as np\n",
    "import pandas as pd\n",
    "import matplotlib.pyplot as plt\n",
    "import tensorflow as tf\n",
    "import random"
   ]
  },
  {
   "cell_type": "markdown",
   "metadata": {
    "id": "9lH-6cH5CrtO"
   },
   "source": [
    "Merge transcripts.csv with ted_main.csv"
   ]
  },
  {
   "cell_type": "code",
   "execution_count": 2,
   "metadata": {
    "ExecuteTime": {
     "end_time": "2020-11-14T12:08:25.713171Z",
     "start_time": "2020-11-14T12:08:25.149828Z"
    },
    "id": "UbhBsoBFDMM9"
   },
   "outputs": [],
   "source": [
    "def read_in_merged_data(path_to_tedtalks=''):\n",
    "    \"\"\" Merge transcripts.csv with ted_main.csv\n",
    "\n",
    "    # Arguments:\n",
    "        path_to_data : str\n",
    "            Specify the path to the `tedtalks` folder containing the data\n",
    "\n",
    "    # Returns:\n",
    "        df_merged : pd.DataFrame\n",
    "            A data frame containing the merged transcripts.csv and ted_main.csv files\n",
    "    \"\"\"\n",
    "\n",
    "    # Read in the data\n",
    "    df_main = pd.read_csv(path_to_tedtalks + 'tedtalks/ted_main.csv')\n",
    "    df_transcripts = pd.read_csv(path_to_tedtalks + 'tedtalks/transcripts.csv')\n",
    "\n",
    "    # Merge data frames on `url`, since some ted talks in `ted_main.csv` do not have transcripts in `transcripts.csv`\n",
    "    df_merged = df_main.merge(df_transcripts, how=\"inner\", on=\"url\")\n",
    "\n",
    "    return df_merged\n",
    "\n",
    "df_merged = read_in_merged_data()"
   ]
  },
  {
   "cell_type": "markdown",
   "metadata": {
    "id": "gH1M7rAIxe47"
   },
   "source": [
    "Extract T/E/D label for each TED talk transcript"
   ]
  },
  {
   "cell_type": "code",
   "execution_count": 3,
   "metadata": {
    "ExecuteTime": {
     "end_time": "2020-11-14T12:08:25.804644Z",
     "start_time": "2020-11-14T12:08:25.716437Z"
    },
    "id": "nnzlHdAREVb_"
   },
   "outputs": [],
   "source": [
    "def extract_label(tags):\n",
    "    \"\"\"Returns the T/E/D label for a TED talk based on its keyword tags,\n",
    "       where T = Technology, E = Entertainment, D = Design.\n",
    "\n",
    "    # Parameters:\n",
    "        tags: str, containing a list of keyword tags for a TED Talk.\n",
    "                Example input: \"['computers', 'design', 'technology']\"\n",
    "    \n",
    "    # Returns:\n",
    "        label: str, T/E/D label\n",
    "                Options: \"Other\", \"T\", \"E\", \"D\", \"TE\", \"TD\", \"ED\" and \"TED\"\n",
    "    \"\"\"\n",
    "    \n",
    "    # Cast tags from string to a list e.g. \"['technology', 'design']\" to ['technology', 'design']\n",
    "    tags = eval(tags) \n",
    "\n",
    "    # Cast all tags to lower case \n",
    "    tags = [tag.lower() for tag in tags] \n",
    "\n",
    "    # Extract which T/E/D categories are contained in the keyword tags\n",
    "    label_categories = ['technology', 'entertainment', 'design'] \n",
    "    ted_category = set(label_categories).intersection(tags)  \n",
    "\n",
    "    # Sort the extracted T/E/D categories in T-E-D order i.e. descending order\n",
    "    ted_category = sorted(list(ted_category), reverse = True) \n",
    "\n",
    "    # Extract and capitalize the first letter of each T/E/D component\n",
    "    ted_category = [c[0].upper() for c in ted_category] \n",
    "\n",
    "     # Cast the list to a string e.g. [\"T\", \"D\"] to \"TD\"\n",
    "    ted_category = \"\".join(ted_category)\n",
    "\n",
    "    # If no T/E/D category, label the talk as \"other\"\n",
    "    label = \"Other\" if ted_category == \"\" else ted_category\n",
    "\n",
    "    return label\n",
    "\n",
    "df_merged[\"label\"] = df_merged[\"tags\"].apply(extract_label)"
   ]
  },
  {
   "cell_type": "markdown",
   "metadata": {
    "id": "Bl-xnIxPoNEK"
   },
   "source": [
    "### Brief data exploration"
   ]
  },
  {
   "cell_type": "markdown",
   "metadata": {
    "id": "86_0hsXgoTWV"
   },
   "source": [
    "Summary statistics: \n",
    "\n",
    "*(Note the number of words per sample is an approximation obtained by splitting the text by white space)*"
   ]
  },
  {
   "cell_type": "code",
   "execution_count": 4,
   "metadata": {
    "ExecuteTime": {
     "end_time": "2020-11-14T12:08:26.994222Z",
     "start_time": "2020-11-14T12:08:25.807645Z"
    },
    "colab": {
     "base_uri": "https://localhost:8080/"
    },
    "id": "y_QqWxZSm5Tn",
    "outputId": "2fce6b76-0c5f-497a-c265-3552fa9f02cd"
   },
   "outputs": [
    {
     "name": "stdout",
     "output_type": "stream",
     "text": [
      "Number of samples: 2467\n",
      "Number of classes: 8\n",
      "Median number of words per sample: 2028.0\n",
      "Min number of words per sample: 1\n",
      "Max number of words per sample: 9044\n"
     ]
    }
   ],
   "source": [
    "print(f\"Number of samples: {len(df_merged)}\")\n",
    "print(f\"Number of classes: {df_merged['label'].nunique()}\")\n",
    "print(f\"Median number of words per sample: {round(np.median([len(transcript.split()) for transcript in list(df_merged['transcript'])]))}\")\n",
    "print(f\"Min number of words per sample: {np.min([len(transcript.split()) for transcript in list(df_merged['transcript'])])}\")\n",
    "print(f\"Max number of words per sample: {np.max([len(transcript.split()) for transcript in list(df_merged['transcript'])])}\")"
   ]
  },
  {
   "cell_type": "markdown",
   "metadata": {
    "id": "Sbe10P40q5N_"
   },
   "source": [
    "Plot distribution of number of words per sample: \n",
    "\n",
    "*(Notice there are some very short transcripts – typically corresponding to musical performances not involving speaking)*"
   ]
  },
  {
   "cell_type": "code",
   "execution_count": 5,
   "metadata": {
    "ExecuteTime": {
     "end_time": "2020-11-14T12:08:27.003592Z",
     "start_time": "2020-11-14T12:08:26.998040Z"
    }
   },
   "outputs": [],
   "source": [
    "# Use LaTEX font\n",
    "from matplotlib import rc\n",
    "rc('font', **{'family': 'serif', 'serif': ['Palatino']})"
   ]
  },
  {
   "cell_type": "code",
   "execution_count": 6,
   "metadata": {
    "ExecuteTime": {
     "end_time": "2020-11-14T12:08:27.784873Z",
     "start_time": "2020-11-14T12:08:27.006319Z"
    },
    "colab": {
     "base_uri": "https://localhost:8080/",
     "height": 295
    },
    "id": "Y5lhqOD-q2tZ",
    "outputId": "e34f7846-635b-45ba-9ceb-b3ac7f53388f"
   },
   "outputs": [
    {
     "data": {
      "image/png": "[encoded data removed]",
      "text/plain": [
       "<Figure size 432x288 with 1 Axes>"
      ]
     },
     "metadata": {
      "needs_background": "light"
     },
     "output_type": "display_data"
    }
   ],
   "source": [
    "def plot_sample_length_distribution(df):\n",
    "    \"\"\"Plots a histogram with the distribution of the transcript lengths stored in a data frame.\n",
    "    \n",
    "    # Parameters:\n",
    "        df: pd.DataFrame, a data frame containing a \"transcript\" column\n",
    "\n",
    "    # Raises:\n",
    "        AssertionError : if \"transcript\" is not a column in `df` \n",
    "    \"\"\"\n",
    "    assert \"transcript\" in df.columns\n",
    "\n",
    "    plt.hist([len(transcript.split()) for transcript in list(df['transcript'])], 50)\n",
    "    plt.ylabel(\"Number of samples\")\n",
    "    plt.xlabel(\"Approximate number of words per sample\")\n",
    "    plt.title(\"Distribution of transcript lengths in the TED dataset\")\n",
    "\n",
    "plot_sample_length_distribution(df_merged)"
   ]
  },
  {
   "cell_type": "markdown",
   "metadata": {
    "id": "s2DkprDZx0of"
   },
   "source": [
    "Plot distribution of labels\n",
    "\n",
    "*(Notice the high class imbalance)*"
   ]
  },
  {
   "cell_type": "code",
   "execution_count": 7,
   "metadata": {
    "ExecuteTime": {
     "end_time": "2020-11-14T12:08:28.488418Z",
     "start_time": "2020-11-14T12:08:27.787870Z"
    },
    "colab": {
     "base_uri": "https://localhost:8080/",
     "height": 295
    },
    "id": "E29JGC52DUHa",
    "outputId": "d022b052-4a4f-4f09-d1f7-8b8f7a969e64"
   },
   "outputs": [
    {
     "data": {
      "image/png": "[encoded data removed]",
      "text/plain": [
       "<Figure size 432x288 with 1 Axes>"
      ]
     },
     "metadata": {
      "needs_background": "light"
     },
     "output_type": "display_data"
    }
   ],
   "source": [
    "def plot_y_distribution(df, percentages=False):\n",
    "    \"\"\"Plots a horizontal bar graph with the distribution of the labels in a data frame.\n",
    "    \n",
    "    # Parameters:\n",
    "        df: pd.DataFrame, a data frame containing a \"label\" column\n",
    "        percentages: bool, whether to plot the proprtion of observations a given label\n",
    "                            corresponds to, or just the raw counts\n",
    "\n",
    "    # Raises:\n",
    "        AssertionError : if \"label\" is not a column in `df` \n",
    "    \"\"\"\n",
    "    assert \"label\" in df.columns\n",
    "\n",
    "    if percentages:\n",
    "        (df[\"label\"].value_counts()/len(df)*100.0).sort_values().plot.barh()\n",
    "        plt.xlabel(\"Percentage of observations (%)\")\n",
    "    else:\n",
    "        df[\"label\"].value_counts().sort_values().plot.barh()\n",
    "        plt.xlabel(\"Number of observations\")\n",
    "\n",
    "    plt.ylabel(\"Label\")\n",
    "    plt.title(\"Distribution of labels in the TED dataset\")\n",
    "\n",
    "#     plt.savefig(f\"DistributionOfLabels.png\", dpi=300)\n",
    "    \n",
    "plot_y_distribution(df_merged, True)"
   ]
  },
  {
   "cell_type": "markdown",
   "metadata": {
    "id": "EYg_ll-8x6W0"
   },
   "source": [
    "### Train-validation-test split"
   ]
  },
  {
   "cell_type": "code",
   "execution_count": 8,
   "metadata": {
    "ExecuteTime": {
     "end_time": "2020-11-14T12:08:30.594925Z",
     "start_time": "2020-11-14T12:08:28.494114Z"
    },
    "colab": {
     "base_uri": "https://localhost:8080/"
    },
    "id": "8-RNfxl2DpxQ",
    "outputId": "6631f548-16fe-4609-9e6c-ba40a06f173d"
   },
   "outputs": [
    {
     "data": {
      "text/plain": [
       "(1479, 494, 494)"
      ]
     },
     "execution_count": 8,
     "metadata": {},
     "output_type": "execute_result"
    }
   ],
   "source": [
    "from sklearn.model_selection import train_test_split\n",
    "\n",
    "def train_val_test_split(df, random_state = 42, validation_set_size = 0.2, test_set_size = 0.2):\n",
    "    \"\"\"Splits a data frame into train, validation and test sets – stratified according to\n",
    "      label proportions.\n",
    "\n",
    "    # Parameters:\n",
    "        df: pd.DataFrame, a data frame containing a \"transcript\" and \"label\" column\n",
    "        random_state: int, for reproducibility\n",
    "        validation_set_size: int, the absolute size of the validation set to create from `df`\n",
    "                              Default: 0.2 – 20% of the 2467 observations\n",
    "        test_set_size: int, the absolute size of the test set to create from `df`\n",
    "                              Default: 0.2 - 20% of the 2467 observations\n",
    "        \n",
    "    # Returns:\n",
    "        df_train, df_val, df_test: pd.DataFrame\n",
    "            `df` split into train, validation and test sets with \"transcript\"\n",
    "            and \"label\" columns.\n",
    "\n",
    "    # Raises:\n",
    "        AssertionError : if either \"transcript\" or \"label\" are not columns in `df` \n",
    "    \"\"\"\n",
    "    assert \"transcript\" in df.columns and \"label\" in df.columns\n",
    "\n",
    "    # Keep only the \"transcript\" and \"label\" columns in `df_all`\n",
    "    df_all = pd.DataFrame(df[[\"transcript\", \"label\"]])\n",
    "\n",
    "    # Extract 20% of observations randomly for the validation set,\n",
    "    # but stratify on the \"label\" column to preserve label proportions\n",
    "    df_train, df_val = train_test_split(df_all, \n",
    "                                        test_size=validation_set_size,\n",
    "                                        random_state=random_state,\n",
    "                                        stratify=df_all[\"label\"])\n",
    "\n",
    "    # Extract 20% of observations randomly for the test set,\n",
    "    # but stratify on the \"label\" column to preserve label proportions\n",
    "    df_train, df_test = train_test_split(df_train, \n",
    "                                        test_size=test_set_size / (1 - validation_set_size),\n",
    "                                        random_state=random_state,\n",
    "                                        stratify=df_train[\"label\"])\n",
    "    \n",
    "    return df_train, df_val, df_test\n",
    "\n",
    "df_train, df_val, df_test = train_val_test_split(df_merged)\n",
    "len(df_train), len(df_val), len(df_test)"
   ]
  },
  {
   "cell_type": "markdown",
   "metadata": {
    "id": "kVRB5uhRoa8n"
   },
   "source": [
    "### Encoding model input (bag-of-words approach) and output representations (integer encoded labels)"
   ]
  },
  {
   "cell_type": "markdown",
   "metadata": {
    "id": "r-1zKCq0bl7h"
   },
   "source": [
    "Map/encode the labels to integers in the range `[0, num_classes-1]`"
   ]
  },
  {
   "cell_type": "code",
   "execution_count": 9,
   "metadata": {
    "ExecuteTime": {
     "end_time": "2020-11-14T12:08:30.684897Z",
     "start_time": "2020-11-14T12:08:30.602292Z"
    },
    "id": "qLhdMgBYZlmb"
   },
   "outputs": [],
   "source": [
    "from tensorflow.keras.preprocessing.text import Tokenizer\n",
    "\n",
    "def encode_labels(df_train, df_val, df_test):\n",
    "  \"\"\"\n",
    "  # Parameters:\n",
    "      df_train, df_val, df_test: pd.DataFrame\n",
    "          Data frames containing a \"label\" column to encode, \n",
    "          where the \"label\" column consists of strings.\n",
    "      \n",
    "  # Returns:\n",
    "      y_train, y_val, y_test: np.ndarray of shape (n_obs,)\n",
    "          Integer encoded response for training, validation, and testing.\n",
    "      label_tokenizer: tf.keras.preprocessing.text.Tokenizer\n",
    "          Used later to map integer encodings back to the string labels.\n",
    "\n",
    "  # Raises:\n",
    "      AssertionError : if \"label\" is not a column in `df_train`,\n",
    "                        `df_val` or `df_test`\n",
    "  \"\"\"\n",
    "  assert all(\"label\" in df.columns for df in [df_train, df_val, df_test])\n",
    "\n",
    "  # Fit the label tokenizer on the training data      \n",
    "  label_tokenizer = Tokenizer()\n",
    "  label_tokenizer.fit_on_texts(df_train['label'])\n",
    "\n",
    "  # Convert from strings (\"Other\",\"T\", \"E\", ... \"TED\") to integers in the range [1, 8]\n",
    "  y_train = np.array(label_tokenizer.texts_to_sequences(df_train['label']))\n",
    "  y_val = np.array(label_tokenizer.texts_to_sequences(df_val['label']))\n",
    "  y_test = np.array(label_tokenizer.texts_to_sequences(df_test['label']))\n",
    "\n",
    "  # Subtract 1 to cast encoded labels from range [1, 8] to range [0, 7].\n",
    "  y_train, y_val, y_test = y_train - 1, y_val - 1, y_test - 1\n",
    "\n",
    "  # Flatten to np.ndarray of shape (n_obs,)\n",
    "  y_train, y_val, y_test = y_train.flatten(), y_val.flatten(), y_test.flatten()\n",
    "\n",
    "  return y_train, y_val, y_test, label_tokenizer\n",
    "\n",
    "y_train, y_val, y_test, label_tokenizer = encode_labels(df_train, df_val, df_test)"
   ]
  },
  {
   "cell_type": "markdown",
   "metadata": {
    "id": "Czq-czuKbeB7"
   },
   "source": [
    "Tokenize / vectorize transcripts using TF-IDF bag-of-words approach"
   ]
  },
  {
   "cell_type": "code",
   "execution_count": 10,
   "metadata": {
    "ExecuteTime": {
     "end_time": "2020-11-14T12:08:46.884616Z",
     "start_time": "2020-11-14T12:08:30.686959Z"
    },
    "id": "NvtyHqkKQsbr"
   },
   "outputs": [],
   "source": [
    "from sklearn.feature_extraction.text import TfidfVectorizer\n",
    "from sklearn.feature_selection import SelectKBest\n",
    "from sklearn.feature_selection import chi2\n",
    "\n",
    "def vectorize_transcripts(df_train, df_val, df_test, y_train, top_k_features=20000):\n",
    "    \"\"\"Tokenize and then vectorize the transcripts using the TF-IDF approach.\n",
    "\n",
    "    # Parameters:\n",
    "      df_train, df_val, df_test: pd.DataFrame\n",
    "          Data frames containing a \"transcript\" column to encode, \n",
    "          where the \"transcript\" column consists of text strings.\n",
    "      top_k_features: int\n",
    "          The number of n-grams to keep for the bag-of-words.\n",
    "          Only the `top_k_features` most important features will\n",
    "          be retained.\n",
    "      y_train: np.ndarray of shape (n_train,)\n",
    "          Integer encoded labels for the training data, used\n",
    "          for feature importance for choosing which tokens to retain.\n",
    "\n",
    "    # Returns:\n",
    "      X_train, X_val, X_test: scipy.sparse.csr.csr_matrix of shape (n_obs, top_k_features)\n",
    "          Sparse matrices (to store efficiently) with the TF-IDF vectorized transcripts.\n",
    "      transcript_vectorizer: sklearn.feature_extraction.text import TfidfVectorizer\n",
    "          Based on training data, so can be used later to vectorize new data\n",
    "      ngram_selector: sklearn.feature_selection.SelectKBest  \n",
    "          Based on training data, so can be used later to select \n",
    "          the same 20000 best n-grams for new data  \n",
    "\n",
    "    # Raises:\n",
    "      AssertionError : if \"transcript\" is not a column in `df_train`,\n",
    "                        `df_val` or `df_test`\n",
    "    \"\"\"\n",
    "    assert all(\"transcript\" in df.columns for df in [\n",
    "               df_train, df_val, df_test])\n",
    "\n",
    "    # Construct the TF-IDF vectorizer, considering both 1-grams and 2-grams as tokens\n",
    "    transcript_vectorizer = TfidfVectorizer(ngram_range=(\n",
    "        1, 2), strip_accents='unicode', min_df=2)\n",
    "\n",
    "    # Learn vocabulary from training transcripts and vectorize training transcripts\n",
    "    X_train = transcript_vectorizer.fit_transform(df_train[\"transcript\"])\n",
    "\n",
    "    # Vectorize validation and test transcripts\n",
    "    X_val = transcript_vectorizer.transform(df_val[\"transcript\"])\n",
    "    X_test = transcript_vectorizer.transform(df_test[\"transcript\"])\n",
    "\n",
    "    # Select the 'top_k_features' most important n-grams in predicting the response,\n",
    "    # using the chi-squared score as a measure of association between each\n",
    "    # feature and the response in the training data.\n",
    "    ngram_selector = SelectKBest(chi2, k=min(top_k_features, X_train.shape[1]))\n",
    "    ngram_selector.fit(X_train, y_train)\n",
    "\n",
    "    # Retain only the 'top_k_features' for each of the X matrices\n",
    "    X_train = ngram_selector.transform(X_train).astype('float32')\n",
    "    X_val = ngram_selector.transform(X_val).astype('float32')\n",
    "    X_test = ngram_selector.transform(X_test).astype('float32')\n",
    "\n",
    "    return X_train, X_val, X_test, transcript_vectorizer, ngram_selector\n",
    "\n",
    "X_train, X_val, X_test, transcript_vectorizer, ngram_selector = vectorize_transcripts(df_train, df_val, df_test, y_train)"
   ]
  },
  {
   "cell_type": "code",
   "execution_count": 11,
   "metadata": {
    "ExecuteTime": {
     "end_time": "2020-11-14T12:08:46.896666Z",
     "start_time": "2020-11-14T12:08:46.886955Z"
    },
    "colab": {
     "base_uri": "https://localhost:8080/"
    },
    "id": "OxaP0PHsZOXX",
    "outputId": "99316243-649b-4fcf-e4ab-c07d24de36f2"
   },
   "outputs": [
    {
     "data": {
      "text/plain": [
       "((1479, 20000), (1479,), (494, 20000), (494,), (494, 20000), (494,))"
      ]
     },
     "execution_count": 11,
     "metadata": {},
     "output_type": "execute_result"
    }
   ],
   "source": [
    "X_train.shape, y_train.shape, X_val.shape, y_val.shape, X_test.shape, y_test.shape"
   ]
  },
  {
   "cell_type": "markdown",
   "metadata": {
    "id": "RQyQA4yLfuIh"
   },
   "source": [
    "## Baseline"
   ]
  },
  {
   "cell_type": "markdown",
   "metadata": {
    "id": "o6mq3qMx5p4C"
   },
   "source": [
    "Always predict the most popular class"
   ]
  },
  {
   "cell_type": "code",
   "execution_count": 12,
   "metadata": {
    "ExecuteTime": {
     "end_time": "2020-11-14T12:08:46.923516Z",
     "start_time": "2020-11-14T12:08:46.910745Z"
    },
    "id": "kZhoiVROfwGd"
   },
   "outputs": [],
   "source": [
    "from sklearn.dummy import DummyClassifier\n",
    "from sklearn.metrics import accuracy_score, f1_score, precision_score, recall_score"
   ]
  },
  {
   "cell_type": "code",
   "execution_count": 13,
   "metadata": {
    "ExecuteTime": {
     "end_time": "2020-11-14T12:08:46.938258Z",
     "start_time": "2020-11-14T12:08:46.926467Z"
    },
    "colab": {
     "base_uri": "https://localhost:8080/"
    },
    "id": "_Dd5H8yn5pNs",
    "outputId": "9114db11-d898-47fd-a0a3-bdd4cae65530"
   },
   "outputs": [
    {
     "name": "stdout",
     "output_type": "stream",
     "text": [
      "Baseline validation F1 score: 8.90%\n",
      "Baseline accuracy: 55.26%\n"
     ]
    }
   ],
   "source": [
    "baseline_clf = DummyClassifier(strategy=\"most_frequent\")\n",
    "baseline_clf.fit(X_train, y_train)\n",
    "\n",
    "train_pred = baseline_clf.predict(X_train)\n",
    "val_pred = baseline_clf.predict(X_val)\n",
    "test_pred = baseline_clf.predict(X_test)\n",
    "\n",
    "\n",
    "baseline_val_f1 = f1_score(y_val, val_pred, average='macro')\n",
    "baseline_val_acc = accuracy_score(y_val, val_pred)\n",
    "print(f\"Baseline validation F1 score: {baseline_val_f1*100:.2f}%\")\n",
    "print(f\"Baseline accuracy: {baseline_val_acc*100:.2f}%\")"
   ]
  },
  {
   "cell_type": "markdown",
   "metadata": {
    "id": "O7kdMxyubfnc"
   },
   "source": [
    "## Model Building, Validation and Evaluation"
   ]
  },
  {
   "cell_type": "markdown",
   "metadata": {
    "ExecuteTime": {
     "end_time": "2020-11-14T11:53:30.827135Z",
     "start_time": "2020-11-14T11:53:30.823435Z"
    }
   },
   "source": [
    "### MLP"
   ]
  },
  {
   "cell_type": "code",
   "execution_count": 14,
   "metadata": {
    "ExecuteTime": {
     "end_time": "2020-11-14T12:08:46.946310Z",
     "start_time": "2020-11-14T12:08:46.941042Z"
    },
    "id": "7pk9smSdoTpI"
   },
   "outputs": [],
   "source": [
    "from tensorflow.keras import callbacks, models, layers"
   ]
  },
  {
   "cell_type": "code",
   "execution_count": 15,
   "metadata": {
    "ExecuteTime": {
     "end_time": "2020-11-14T12:08:46.977632Z",
     "start_time": "2020-11-14T12:08:46.960638Z"
    },
    "id": "sr6QnlGxjzVY"
   },
   "outputs": [],
   "source": [
    "def create_MLP(hidden_layers=[128, 128], dropout=0.5, learning_rate=0.001, activation='relu', l2_penalty=0):\n",
    "  \"\"\"\n",
    "  Create an MLP with the architecture and hyperparameters specified.\n",
    "  \"\"\"\n",
    "  model = models.Sequential()\n",
    "\n",
    "  num_layers = len(hidden_layers)\n",
    "\n",
    "  # Hidden Layers\n",
    "  for i in range(num_layers):\n",
    "      if i != num_layers - 1:\n",
    "        model.add(layers.Dense(hidden_layers[i], input_shape=(20000,)))\n",
    "      else:\n",
    "        model.add(layers.Dense(hidden_layers[i]))\n",
    "      model.add(layers.Dropout(dropout))\n",
    "\n",
    "  # Softmax output layer with 8 classes\n",
    "  num_classes = 8\n",
    "  model.add(layers.Dense(num_classes, activation='softmax', kernel_regularizer=tf.keras.regularizers.L2(l2_penalty)))\n",
    "  \n",
    "  # Compile Model\n",
    "  model.compile(loss='sparse_categorical_crossentropy',\n",
    "                optimizer=tf.keras.optimizers.Adam(learning_rate=learning_rate),\n",
    "                metrics=['accuracy'])\n",
    "\n",
    "  return model"
   ]
  },
  {
   "cell_type": "code",
   "execution_count": 16,
   "metadata": {
    "ExecuteTime": {
     "end_time": "2020-11-14T12:08:47.001047Z",
     "start_time": "2020-11-14T12:08:46.986222Z"
    },
    "id": "YzSaYkEEtRhr"
   },
   "outputs": [],
   "source": [
    "def generate_MLP_params():\n",
    "  \"\"\"\n",
    "  Generate the hyperparameters to be used for the MLP model using a \n",
    "  randomised grid search. \n",
    "  \"\"\"\n",
    "  # Set up search space for hyperparameters\n",
    "  activations = ['relu']\n",
    "  dropout = [0, 0.1, 0.25, 0.5, 0.5]\n",
    "  learning_rate = [0.01, 0.005, 0.001, 0.0005]\n",
    "  l2_penalty = [0, 0, 0.001, 0.01, 0.1]\n",
    "\n",
    "  # Set up search space for architecture\n",
    "  num_layers = [1, 2, 2, 3, 3, 4]\n",
    "  hidden_nodes = [8, 16, 32, 64, 128, 256, 512]\n",
    "  hidden_layers = random.choice(num_layers)\n",
    "  model_shape = []\n",
    "  for i in range(hidden_layers):\n",
    "    model_shape.append(random.choice(hidden_nodes))\n",
    "\n",
    "  # Create dictionary\n",
    "  params = {}\n",
    "\n",
    "  params['hidden_layers'] = model_shape\n",
    "  params['learning_rate'] = random.choice(learning_rate)\n",
    "  params['activation'] = random.choice(activations)\n",
    "  params['dropout'] = random.choice(dropout)\n",
    "  params['l2_penalty'] = random.choice(l2_penalty)\n",
    "\n",
    "  return params"
   ]
  },
  {
   "cell_type": "code",
   "execution_count": 17,
   "metadata": {
    "ExecuteTime": {
     "end_time": "2020-11-14T12:08:47.026115Z",
     "start_time": "2020-11-14T12:08:47.009476Z"
    },
    "colab": {
     "base_uri": "https://localhost:8080/"
    },
    "id": "_Jg1hLsizbK0",
    "outputId": "2a08e082-65a3-42bc-ff77-fd93e9f12748"
   },
   "outputs": [],
   "source": [
    "# Class weights used for weighting loss function according to class support\n",
    "class_weights = dict(1/df_merged[\"label\"].value_counts()*len(df_merged)/2.0)\n",
    "class_weights = {label_tokenizer.word_index[k.lower()] - 1 : v for k,v in class_weights.items()}"
   ]
  },
  {
   "cell_type": "code",
   "execution_count": 18,
   "metadata": {
    "ExecuteTime": {
     "end_time": "2020-11-14T12:08:47.033521Z",
     "start_time": "2020-11-14T12:08:47.030045Z"
    },
    "id": "ycVr9UQ2lTxj"
   },
   "outputs": [],
   "source": [
    "from sklearn.metrics import accuracy_score, f1_score, precision_score, recall_score"
   ]
  },
  {
   "cell_type": "code",
   "execution_count": 19,
   "metadata": {
    "ExecuteTime": {
     "end_time": "2020-11-14T12:08:47.049125Z",
     "start_time": "2020-11-14T12:08:47.037865Z"
    },
    "id": "BSpkzH-gt81A"
   },
   "outputs": [],
   "source": [
    "df_record = pd.DataFrame(columns=['hidden_layers', 'learning_rate', 'activation', 'dropout', 'val_accuracy', 'train_accuracy', 'test_accuracy', 'val_f1', 'val_precision', 'val_recall', 'test_f1', 'test_precision', 'test_recall'])"
   ]
  },
  {
   "cell_type": "markdown",
   "metadata": {
    "ExecuteTime": {
     "end_time": "2020-11-14T11:53:17.065805Z",
     "start_time": "2020-11-14T11:53:17.056507Z"
    }
   },
   "source": [
    "Conduct the MLP hyperparameter search"
   ]
  },
  {
   "cell_type": "code",
   "execution_count": 20,
   "metadata": {
    "ExecuteTime": {
     "end_time": "2020-11-14T12:08:47.057499Z",
     "start_time": "2020-11-14T12:08:47.052926Z"
    },
    "id": "sCKm3hN_uC2G"
   },
   "outputs": [],
   "source": [
    "# best_model = None\n",
    "# best_val_f1 = 0\n",
    "\n",
    "# for i in range(5000):\n",
    "#   # Clear memory\n",
    "#   tf.keras.backend.clear_session()\n",
    "\n",
    "#   params = generate_MLP_params()\n",
    "#   model = create_MLP(**params)\n",
    "\n",
    "#   callback = callbacks.EarlyStopping(monitor='val_accuracy', patience=5, restore_best_weights=True)\n",
    "#   history = model.fit(X_train, y_train, epochs=50, validation_data=(X_val, y_val), callbacks=[callback], verbose=0, class_weight=class_weights)\n",
    "\n",
    "#   train_pred = np.argmax(model.predict(X_train), axis=1)\n",
    "#   val_pred = np.argmax(model.predict(X_val), axis=1)\n",
    "#   test_pred = np.argmax(model.predict(X_test), axis=1)\n",
    "  \n",
    "#   params['train_accuracy'] = accuracy_score(y_train, train_pred)\n",
    "#   params['val_accuracy'] = accuracy_score(y_val, val_pred)\n",
    "#   params['test_accuracy'] = accuracy_score(y_test, test_pred)\n",
    "#   params['val_f1'] = f1_score(y_val, val_pred, average='macro')\n",
    "#   params['val_precision'] = precision_score(y_val, val_pred, average='macro')\n",
    "#   params['val_recall'] = recall_score(y_val, val_pred, average='macro')\n",
    "#   params['test_f1'] = f1_score(y_test, test_pred, average='macro')\n",
    "#   params['test_precision'] = precision_score(y_test, test_pred, average='macro')\n",
    "#   params['test_recall'] = recall_score(y_test, test_pred, average='macro')\n",
    "\n",
    "\n",
    "#   if params['val_f1'] > best_val_f1:\n",
    "#     best_model = model\n",
    "#     best_val_f1 = params['val_f1']\n",
    "\n",
    "#   df_record = df_record.append(params, ignore_index=True)\n",
    "#   df_record.to_csv('/content/drive/My Drive/MLP_record.csv', index=False)\n",
    "\n",
    "#   print(i, params['val_accuracy'])\n",
    "\n",
    "# best_model.save('/content/drive/My Drive/best_TED_model')"
   ]
  },
  {
   "cell_type": "markdown",
   "metadata": {
    "id": "kxOr8LuIAoGi"
   },
   "source": [
    "### Other ML Models"
   ]
  },
  {
   "cell_type": "code",
   "execution_count": 21,
   "metadata": {
    "ExecuteTime": {
     "end_time": "2020-11-14T12:08:47.189592Z",
     "start_time": "2020-11-14T12:08:47.060265Z"
    },
    "id": "h1ANqNtxAnf1"
   },
   "outputs": [],
   "source": [
    "from sklearn.naive_bayes import MultinomialNB\n",
    "from sklearn.linear_model import LogisticRegression\n",
    "from sklearn.ensemble import RandomForestClassifier\n",
    "from sklearn.model_selection import GridSearchCV\n",
    "from sklearn import svm"
   ]
  },
  {
   "cell_type": "code",
   "execution_count": 22,
   "metadata": {
    "ExecuteTime": {
     "end_time": "2020-11-14T12:08:47.198667Z",
     "start_time": "2020-11-14T12:08:47.191984Z"
    },
    "id": "UhvbKZ2mG_l5"
   },
   "outputs": [],
   "source": [
    "model_results = pd.DataFrame(columns=['train_accuracy', 'val_accuracy', 'test_accuracy', 'val_f1', 'val_precision', 'val_recall', 'test_f1', 'test_precision', 'test_recall'])"
   ]
  },
  {
   "cell_type": "code",
   "execution_count": 23,
   "metadata": {
    "ExecuteTime": {
     "end_time": "2020-11-14T12:08:47.217870Z",
     "start_time": "2020-11-14T12:08:47.211217Z"
    },
    "id": "hqj0q0gIHBMf"
   },
   "outputs": [],
   "source": [
    "def evaluate_model(clf, y_train, y_val, y_test):\n",
    "  \n",
    "  train_pred = clf.predict(X_train)\n",
    "  val_pred = clf.predict(X_val)\n",
    "  test_pred = clf.predict(X_test)\n",
    "  \n",
    "  results = {}\n",
    "  results['train_accuracy'] = accuracy_score(y_train, train_pred)\n",
    "  results['val_accuracy'] = accuracy_score(y_val, val_pred)\n",
    "  results['test_accuracy'] = accuracy_score(y_test, test_pred)\n",
    "  results['val_f1'] = f1_score(y_val, val_pred, average='macro')\n",
    "  results['val_precision'] = precision_score(y_val, val_pred, average='macro')\n",
    "  results['val_recall'] = recall_score(y_val, val_pred, average='macro')\n",
    "  results['test_f1'] = f1_score(y_test, test_pred, average='macro')\n",
    "  results['test_precision'] = precision_score(y_test, test_pred, average='macro')\n",
    "  results['test_recall'] = recall_score(y_test, test_pred, average='macro')\n",
    "\n",
    "  return results"
   ]
  },
  {
   "cell_type": "markdown",
   "metadata": {
    "id": "P7nAO5fRC5vF"
   },
   "source": [
    "### Naive Bayes"
   ]
  },
  {
   "cell_type": "code",
   "execution_count": 24,
   "metadata": {
    "ExecuteTime": {
     "end_time": "2020-11-14T12:08:48.264844Z",
     "start_time": "2020-11-14T12:08:47.225184Z"
    },
    "colab": {
     "base_uri": "https://localhost:8080/"
    },
    "id": "flS65OjvBnb6",
    "outputId": "895ff369-f322-4c94-c501-a79e2c5f2df1"
   },
   "outputs": [
    {
     "data": {
      "text/plain": [
       "GridSearchCV(estimator=MultinomialNB(),\n",
       "             param_grid={'alpha': [1e-10, 0.001, 0.01, 0.1, 0.2, 0.3, 0.4, 0.5,\n",
       "                                   0.6, 0.7, 0.8, 0.9, 0.95, 0.99],\n",
       "                         'fit_prior': [True, False]})"
      ]
     },
     "execution_count": 24,
     "metadata": {},
     "output_type": "execute_result"
    }
   ],
   "source": [
    "mnb = MultinomialNB()\n",
    "parameters = {'fit_prior':[True, False], 'alpha':[1e-10, 0.001, 0.01, 0.1, 0.2, 0.3, 0.4, 0.5, 0.6, 0.7, 0.8, 0.9, 0.95, 0.99]}\n",
    "clf = GridSearchCV(mnb, parameters)\n",
    "clf.fit(X_train, y_train)"
   ]
  },
  {
   "cell_type": "code",
   "execution_count": 25,
   "metadata": {
    "ExecuteTime": {
     "end_time": "2020-11-14T12:08:48.308653Z",
     "start_time": "2020-11-14T12:08:48.267316Z"
    },
    "colab": {
     "base_uri": "https://localhost:8080/"
    },
    "id": "T_kofeqMHEWz",
    "outputId": "46fc17cd-44e4-41fb-8fa8-98522510edab"
   },
   "outputs": [
    {
     "name": "stderr",
     "output_type": "stream",
     "text": [
      "/Library/Frameworks/Python.framework/Versions/3.8/lib/python3.8/site-packages/sklearn/metrics/_classification.py:1221: UndefinedMetricWarning: Precision is ill-defined and being set to 0.0 in labels with no predicted samples. Use `zero_division` parameter to control this behavior.\n",
      "  _warn_prf(average, modifier, msg_start, len(result))\n"
     ]
    }
   ],
   "source": [
    "bayes_results = evaluate_model(clf, y_train, y_val, y_test)\n",
    "bayes_results['model_type'] = 'naive_bayes'\n",
    "model_results = model_results.append(bayes_results, ignore_index=True)"
   ]
  },
  {
   "cell_type": "markdown",
   "metadata": {
    "id": "G6HxUjhyC9VK"
   },
   "source": [
    "### Logistic Regression"
   ]
  },
  {
   "cell_type": "code",
   "execution_count": 26,
   "metadata": {
    "ExecuteTime": {
     "end_time": "2020-11-14T12:09:24.740235Z",
     "start_time": "2020-11-14T12:08:48.314624Z"
    },
    "colab": {
     "base_uri": "https://localhost:8080/"
    },
    "id": "wtuNPFXsDC0N",
    "outputId": "8603759a-3227-4fc8-9f4a-772d3b37e274"
   },
   "outputs": [
    {
     "name": "stderr",
     "output_type": "stream",
     "text": [
      "/Library/Frameworks/Python.framework/Versions/3.8/lib/python3.8/site-packages/sklearn/model_selection/_validation.py:548: FitFailedWarning: Estimator fit failed. The score on this train-test partition for these parameters will be set to nan. Details: \n",
      "Traceback (most recent call last):\n",
      "  File \"/Library/Frameworks/Python.framework/Versions/3.8/lib/python3.8/site-packages/sklearn/model_selection/_validation.py\", line 531, in _fit_and_score\n",
      "    estimator.fit(X_train, y_train, **fit_params)\n",
      "  File \"/Library/Frameworks/Python.framework/Versions/3.8/lib/python3.8/site-packages/sklearn/linear_model/_logistic.py\", line 1304, in fit\n",
      "    solver = _check_solver(self.solver, self.penalty, self.dual)\n",
      "  File \"/Library/Frameworks/Python.framework/Versions/3.8/lib/python3.8/site-packages/sklearn/linear_model/_logistic.py\", line 442, in _check_solver\n",
      "    raise ValueError(\"Solver %s supports only 'l2' or 'none' penalties, \"\n",
      "ValueError: Solver lbfgs supports only 'l2' or 'none' penalties, got l1 penalty.\n",
      "\n",
      "  warnings.warn(\"Estimator fit failed. The score on this train-test\"\n",
      "/Library/Frameworks/Python.framework/Versions/3.8/lib/python3.8/site-packages/sklearn/model_selection/_validation.py:548: FitFailedWarning: Estimator fit failed. The score on this train-test partition for these parameters will be set to nan. Details: \n",
      "Traceback (most recent call last):\n",
      "  File \"/Library/Frameworks/Python.framework/Versions/3.8/lib/python3.8/site-packages/sklearn/model_selection/_validation.py\", line 531, in _fit_and_score\n",
      "    estimator.fit(X_train, y_train, **fit_params)\n",
      "  File \"/Library/Frameworks/Python.framework/Versions/3.8/lib/python3.8/site-packages/sklearn/linear_model/_logistic.py\", line 1304, in fit\n",
      "    solver = _check_solver(self.solver, self.penalty, self.dual)\n",
      "  File \"/Library/Frameworks/Python.framework/Versions/3.8/lib/python3.8/site-packages/sklearn/linear_model/_logistic.py\", line 442, in _check_solver\n",
      "    raise ValueError(\"Solver %s supports only 'l2' or 'none' penalties, \"\n",
      "ValueError: Solver lbfgs supports only 'l2' or 'none' penalties, got elasticnet penalty.\n",
      "\n",
      "  warnings.warn(\"Estimator fit failed. The score on this train-test\"\n",
      "/Library/Frameworks/Python.framework/Versions/3.8/lib/python3.8/site-packages/sklearn/model_selection/_validation.py:548: FitFailedWarning: Estimator fit failed. The score on this train-test partition for these parameters will be set to nan. Details: \n",
      "Traceback (most recent call last):\n",
      "  File \"/Library/Frameworks/Python.framework/Versions/3.8/lib/python3.8/site-packages/sklearn/model_selection/_validation.py\", line 531, in _fit_and_score\n",
      "    estimator.fit(X_train, y_train, **fit_params)\n",
      "  File \"/Library/Frameworks/Python.framework/Versions/3.8/lib/python3.8/site-packages/sklearn/linear_model/_logistic.py\", line 1304, in fit\n",
      "    solver = _check_solver(self.solver, self.penalty, self.dual)\n",
      "  File \"/Library/Frameworks/Python.framework/Versions/3.8/lib/python3.8/site-packages/sklearn/linear_model/_logistic.py\", line 442, in _check_solver\n",
      "    raise ValueError(\"Solver %s supports only 'l2' or 'none' penalties, \"\n",
      "ValueError: Solver lbfgs supports only 'l2' or 'none' penalties, got l1 penalty.\n",
      "\n",
      "  warnings.warn(\"Estimator fit failed. The score on this train-test\"\n",
      "/Library/Frameworks/Python.framework/Versions/3.8/lib/python3.8/site-packages/sklearn/model_selection/_validation.py:548: FitFailedWarning: Estimator fit failed. The score on this train-test partition for these parameters will be set to nan. Details: \n",
      "Traceback (most recent call last):\n",
      "  File \"/Library/Frameworks/Python.framework/Versions/3.8/lib/python3.8/site-packages/sklearn/model_selection/_validation.py\", line 531, in _fit_and_score\n",
      "    estimator.fit(X_train, y_train, **fit_params)\n",
      "  File \"/Library/Frameworks/Python.framework/Versions/3.8/lib/python3.8/site-packages/sklearn/linear_model/_logistic.py\", line 1304, in fit\n",
      "    solver = _check_solver(self.solver, self.penalty, self.dual)\n",
      "  File \"/Library/Frameworks/Python.framework/Versions/3.8/lib/python3.8/site-packages/sklearn/linear_model/_logistic.py\", line 442, in _check_solver\n",
      "    raise ValueError(\"Solver %s supports only 'l2' or 'none' penalties, \"\n",
      "ValueError: Solver lbfgs supports only 'l2' or 'none' penalties, got elasticnet penalty.\n",
      "\n",
      "  warnings.warn(\"Estimator fit failed. The score on this train-test\"\n"
     ]
    },
    {
     "data": {
      "text/plain": [
       "GridSearchCV(estimator=LogisticRegression(),\n",
       "             param_grid={'class_weight': ['balanced', None],\n",
       "                         'penalty': ['l1', 'l2', 'elasticnet', 'none'],\n",
       "                         'random_state': [0]})"
      ]
     },
     "execution_count": 26,
     "metadata": {},
     "output_type": "execute_result"
    }
   ],
   "source": [
    "lr = LogisticRegression()\n",
    "parameters = {'penalty':['l1', 'l2', 'elasticnet', 'none'], 'random_state':[0], 'class_weight':['balanced', None]}\n",
    "clf = GridSearchCV(lr, parameters)\n",
    "clf.fit(X_train, y_train)"
   ]
  },
  {
   "cell_type": "code",
   "execution_count": 27,
   "metadata": {
    "ExecuteTime": {
     "end_time": "2020-11-14T12:09:24.789799Z",
     "start_time": "2020-11-14T12:09:24.743264Z"
    },
    "colab": {
     "base_uri": "https://localhost:8080/"
    },
    "id": "AotrcEw4HI0n",
    "outputId": "4b972a4a-fcee-44cb-a587-91d3f4651abc"
   },
   "outputs": [
    {
     "name": "stderr",
     "output_type": "stream",
     "text": [
      "/Library/Frameworks/Python.framework/Versions/3.8/lib/python3.8/site-packages/sklearn/metrics/_classification.py:1221: UndefinedMetricWarning: Precision is ill-defined and being set to 0.0 in labels with no predicted samples. Use `zero_division` parameter to control this behavior.\n",
      "  _warn_prf(average, modifier, msg_start, len(result))\n"
     ]
    }
   ],
   "source": [
    "lr_results = evaluate_model(clf, y_train, y_val, y_test)\n",
    "lr_results['model_type'] = 'logistic_regression'\n",
    "model_results = model_results.append(lr_results, ignore_index=True)"
   ]
  },
  {
   "cell_type": "markdown",
   "metadata": {
    "id": "9_v-fG63D19h"
   },
   "source": [
    "### SVM"
   ]
  },
  {
   "cell_type": "code",
   "execution_count": 28,
   "metadata": {
    "ExecuteTime": {
     "end_time": "2020-11-14T12:09:25.092093Z",
     "start_time": "2020-11-14T12:09:24.796569Z"
    },
    "colab": {
     "base_uri": "https://localhost:8080/"
    },
    "id": "XCuVNoXRD5ov",
    "outputId": "3e239f93-bbd5-4c10-fce5-4fcf5f5f3884"
   },
   "outputs": [
    {
     "data": {
      "text/plain": [
       "LinearSVC(random_state=0)"
      ]
     },
     "execution_count": 28,
     "metadata": {},
     "output_type": "execute_result"
    }
   ],
   "source": [
    "clf = svm.LinearSVC(random_state=0)\n",
    "clf.fit(X_train, y_train)"
   ]
  },
  {
   "cell_type": "code",
   "execution_count": 29,
   "metadata": {
    "ExecuteTime": {
     "end_time": "2020-11-14T12:09:25.137532Z",
     "start_time": "2020-11-14T12:09:25.094422Z"
    },
    "colab": {
     "base_uri": "https://localhost:8080/",
     "height": 195
    },
    "id": "kjJ3h9S6HMhC",
    "outputId": "4dc63eac-15c4-4205-ef31-1981dfa214d1"
   },
   "outputs": [
    {
     "data": {
      "text/html": [
       "<div>\n",
       "<style scoped>\n",
       "    .dataframe tbody tr th:only-of-type {\n",
       "        vertical-align: middle;\n",
       "    }\n",
       "\n",
       "    .dataframe tbody tr th {\n",
       "        vertical-align: top;\n",
       "    }\n",
       "\n",
       "    .dataframe thead th {\n",
       "        text-align: right;\n",
       "    }\n",
       "</style>\n",
       "<table border=\"1\" class=\"dataframe\">\n",
       "  <thead>\n",
       "    <tr style=\"text-align: right;\">\n",
       "      <th></th>\n",
       "      <th>train_accuracy</th>\n",
       "      <th>val_accuracy</th>\n",
       "      <th>test_accuracy</th>\n",
       "      <th>val_f1</th>\n",
       "      <th>val_precision</th>\n",
       "      <th>val_recall</th>\n",
       "      <th>test_f1</th>\n",
       "      <th>test_precision</th>\n",
       "      <th>test_recall</th>\n",
       "      <th>model_type</th>\n",
       "    </tr>\n",
       "  </thead>\n",
       "  <tbody>\n",
       "    <tr>\n",
       "      <th>0</th>\n",
       "      <td>0.964165</td>\n",
       "      <td>0.655870</td>\n",
       "      <td>0.635628</td>\n",
       "      <td>0.290789</td>\n",
       "      <td>0.331311</td>\n",
       "      <td>0.285987</td>\n",
       "      <td>0.290563</td>\n",
       "      <td>0.318311</td>\n",
       "      <td>0.284845</td>\n",
       "      <td>naive_bayes</td>\n",
       "    </tr>\n",
       "    <tr>\n",
       "      <th>1</th>\n",
       "      <td>1.000000</td>\n",
       "      <td>0.651822</td>\n",
       "      <td>0.621457</td>\n",
       "      <td>0.269831</td>\n",
       "      <td>0.311097</td>\n",
       "      <td>0.260054</td>\n",
       "      <td>0.241282</td>\n",
       "      <td>0.313608</td>\n",
       "      <td>0.227509</td>\n",
       "      <td>logistic_regression</td>\n",
       "    </tr>\n",
       "    <tr>\n",
       "      <th>2</th>\n",
       "      <td>0.880325</td>\n",
       "      <td>0.639676</td>\n",
       "      <td>0.611336</td>\n",
       "      <td>0.232907</td>\n",
       "      <td>0.272686</td>\n",
       "      <td>0.229269</td>\n",
       "      <td>0.213502</td>\n",
       "      <td>0.288667</td>\n",
       "      <td>0.206634</td>\n",
       "      <td>svm</td>\n",
       "    </tr>\n",
       "  </tbody>\n",
       "</table>\n",
       "</div>"
      ],
      "text/plain": [
       "   train_accuracy  val_accuracy  test_accuracy    val_f1  val_precision  \\\n",
       "0        0.964165      0.655870       0.635628  0.290789       0.331311   \n",
       "1        1.000000      0.651822       0.621457  0.269831       0.311097   \n",
       "2        0.880325      0.639676       0.611336  0.232907       0.272686   \n",
       "\n",
       "   val_recall   test_f1  test_precision  test_recall           model_type  \n",
       "0    0.285987  0.290563        0.318311     0.284845          naive_bayes  \n",
       "1    0.260054  0.241282        0.313608     0.227509  logistic_regression  \n",
       "2    0.229269  0.213502        0.288667     0.206634                  svm  "
      ]
     },
     "execution_count": 29,
     "metadata": {},
     "output_type": "execute_result"
    }
   ],
   "source": [
    "svm_results = evaluate_model(clf, y_train, y_val, y_test)\n",
    "svm_results['model_type'] = 'svm'\n",
    "model_results = model_results.append(svm_results, ignore_index=True)\n",
    "model_results"
   ]
  },
  {
   "cell_type": "markdown",
   "metadata": {
    "id": "pKHOQhK0EaQk"
   },
   "source": [
    "Save results to csv"
   ]
  },
  {
   "cell_type": "code",
   "execution_count": 30,
   "metadata": {
    "ExecuteTime": {
     "end_time": "2020-11-14T12:09:25.162282Z",
     "start_time": "2020-11-14T12:09:25.142359Z"
    },
    "id": "eD-4ZiR3EjUd"
   },
   "outputs": [],
   "source": [
    "# model_results.to_csv('ML_Results.csv', index=False)"
   ]
  },
  {
   "cell_type": "markdown",
   "metadata": {
    "ExecuteTime": {
     "end_time": "2020-11-14T11:56:17.518626Z",
     "start_time": "2020-11-14T11:56:17.515472Z"
    }
   },
   "source": [
    "## Analysis of best MLP model performance"
   ]
  },
  {
   "cell_type": "code",
   "execution_count": 31,
   "metadata": {
    "ExecuteTime": {
     "end_time": "2020-11-14T12:09:26.038733Z",
     "start_time": "2020-11-14T12:09:25.165022Z"
    },
    "id": "bld1iXEjOAVs"
   },
   "outputs": [],
   "source": [
    "best_model = models.load_model('mlp_final_model')"
   ]
  },
  {
   "cell_type": "markdown",
   "metadata": {
    "ExecuteTime": {
     "end_time": "2020-11-14T12:02:04.447650Z",
     "start_time": "2020-11-14T12:02:04.444281Z"
    }
   },
   "source": [
    "### Test results"
   ]
  },
  {
   "cell_type": "code",
   "execution_count": 32,
   "metadata": {
    "ExecuteTime": {
     "end_time": "2020-11-14T12:09:26.183289Z",
     "start_time": "2020-11-14T12:09:26.041098Z"
    }
   },
   "outputs": [],
   "source": [
    "# Predict using the best MLP model on the test data\n",
    "preds_test = np.argmax(best_model.predict(X_test), axis=1)"
   ]
  },
  {
   "cell_type": "code",
   "execution_count": 33,
   "metadata": {
    "ExecuteTime": {
     "end_time": "2020-11-14T12:09:26.197052Z",
     "start_time": "2020-11-14T12:09:26.186056Z"
    }
   },
   "outputs": [
    {
     "name": "stdout",
     "output_type": "stream",
     "text": [
      "--------------------------------------------------\n",
      "Final MLP test accuracy: 64.17%\n",
      "Final MLP F1-score: 35.56%\n"
     ]
    }
   ],
   "source": [
    "# Compute and report the test accuracy and test F1 score\n",
    "test_accuracy = accuracy_score(preds_test, y_test)\n",
    "test_f1 = f1_score(y_test, preds_test, average='macro')\n",
    "print(\"-\"*50)\n",
    "print(f\"Final MLP test accuracy: {test_accuracy*100:.2f}%\")\n",
    "print(f\"Final MLP F1-score: {test_f1*100:.2f}%\")"
   ]
  },
  {
   "cell_type": "code",
   "execution_count": 34,
   "metadata": {
    "ExecuteTime": {
     "end_time": "2020-11-14T12:09:36.798861Z",
     "start_time": "2020-11-14T12:09:26.199460Z"
    }
   },
   "outputs": [
    {
     "data": {
      "text/html": [
       "<div>\n",
       "<style scoped>\n",
       "    .dataframe tbody tr th:only-of-type {\n",
       "        vertical-align: middle;\n",
       "    }\n",
       "\n",
       "    .dataframe tbody tr th {\n",
       "        vertical-align: top;\n",
       "    }\n",
       "\n",
       "    .dataframe thead th {\n",
       "        text-align: right;\n",
       "    }\n",
       "</style>\n",
       "<table border=\"1\" class=\"dataframe\">\n",
       "  <thead>\n",
       "    <tr style=\"text-align: right;\">\n",
       "      <th></th>\n",
       "      <th>0</th>\n",
       "      <th>1</th>\n",
       "      <th>2</th>\n",
       "      <th>3</th>\n",
       "      <th>4</th>\n",
       "      <th>5</th>\n",
       "      <th>6</th>\n",
       "      <th>7</th>\n",
       "      <th>8</th>\n",
       "      <th>9</th>\n",
       "      <th>...</th>\n",
       "      <th>19992</th>\n",
       "      <th>19993</th>\n",
       "      <th>19994</th>\n",
       "      <th>19995</th>\n",
       "      <th>19996</th>\n",
       "      <th>19997</th>\n",
       "      <th>19998</th>\n",
       "      <th>19999</th>\n",
       "      <th>True label</th>\n",
       "      <th>Predicted label</th>\n",
       "    </tr>\n",
       "  </thead>\n",
       "  <tbody>\n",
       "    <tr>\n",
       "      <th>0</th>\n",
       "      <td>0.0</td>\n",
       "      <td>0.0</td>\n",
       "      <td>0.0</td>\n",
       "      <td>0.0</td>\n",
       "      <td>0.000000</td>\n",
       "      <td>0.0</td>\n",
       "      <td>0.0</td>\n",
       "      <td>0.0</td>\n",
       "      <td>0.0</td>\n",
       "      <td>0.0</td>\n",
       "      <td>...</td>\n",
       "      <td>0.0</td>\n",
       "      <td>0.0</td>\n",
       "      <td>0.0</td>\n",
       "      <td>0.0</td>\n",
       "      <td>0.0</td>\n",
       "      <td>0.000000</td>\n",
       "      <td>0.0</td>\n",
       "      <td>0.0</td>\n",
       "      <td>other</td>\n",
       "      <td>e</td>\n",
       "    </tr>\n",
       "    <tr>\n",
       "      <th>1</th>\n",
       "      <td>0.0</td>\n",
       "      <td>0.0</td>\n",
       "      <td>0.0</td>\n",
       "      <td>0.0</td>\n",
       "      <td>0.000000</td>\n",
       "      <td>0.0</td>\n",
       "      <td>0.0</td>\n",
       "      <td>0.0</td>\n",
       "      <td>0.0</td>\n",
       "      <td>0.0</td>\n",
       "      <td>...</td>\n",
       "      <td>0.0</td>\n",
       "      <td>0.0</td>\n",
       "      <td>0.0</td>\n",
       "      <td>0.0</td>\n",
       "      <td>0.0</td>\n",
       "      <td>0.000000</td>\n",
       "      <td>0.0</td>\n",
       "      <td>0.0</td>\n",
       "      <td>other</td>\n",
       "      <td>other</td>\n",
       "    </tr>\n",
       "    <tr>\n",
       "      <th>2</th>\n",
       "      <td>0.0</td>\n",
       "      <td>0.0</td>\n",
       "      <td>0.0</td>\n",
       "      <td>0.0</td>\n",
       "      <td>0.000000</td>\n",
       "      <td>0.0</td>\n",
       "      <td>0.0</td>\n",
       "      <td>0.0</td>\n",
       "      <td>0.0</td>\n",
       "      <td>0.0</td>\n",
       "      <td>...</td>\n",
       "      <td>0.0</td>\n",
       "      <td>0.0</td>\n",
       "      <td>0.0</td>\n",
       "      <td>0.0</td>\n",
       "      <td>0.0</td>\n",
       "      <td>0.019745</td>\n",
       "      <td>0.0</td>\n",
       "      <td>0.0</td>\n",
       "      <td>t</td>\n",
       "      <td>t</td>\n",
       "    </tr>\n",
       "    <tr>\n",
       "      <th>3</th>\n",
       "      <td>0.0</td>\n",
       "      <td>0.0</td>\n",
       "      <td>0.0</td>\n",
       "      <td>0.0</td>\n",
       "      <td>0.037936</td>\n",
       "      <td>0.0</td>\n",
       "      <td>0.0</td>\n",
       "      <td>0.0</td>\n",
       "      <td>0.0</td>\n",
       "      <td>0.0</td>\n",
       "      <td>...</td>\n",
       "      <td>0.0</td>\n",
       "      <td>0.0</td>\n",
       "      <td>0.0</td>\n",
       "      <td>0.0</td>\n",
       "      <td>0.0</td>\n",
       "      <td>0.000000</td>\n",
       "      <td>0.0</td>\n",
       "      <td>0.0</td>\n",
       "      <td>other</td>\n",
       "      <td>other</td>\n",
       "    </tr>\n",
       "    <tr>\n",
       "      <th>4</th>\n",
       "      <td>0.0</td>\n",
       "      <td>0.0</td>\n",
       "      <td>0.0</td>\n",
       "      <td>0.0</td>\n",
       "      <td>0.000000</td>\n",
       "      <td>0.0</td>\n",
       "      <td>0.0</td>\n",
       "      <td>0.0</td>\n",
       "      <td>0.0</td>\n",
       "      <td>0.0</td>\n",
       "      <td>...</td>\n",
       "      <td>0.0</td>\n",
       "      <td>0.0</td>\n",
       "      <td>0.0</td>\n",
       "      <td>0.0</td>\n",
       "      <td>0.0</td>\n",
       "      <td>0.000000</td>\n",
       "      <td>0.0</td>\n",
       "      <td>0.0</td>\n",
       "      <td>te</td>\n",
       "      <td>other</td>\n",
       "    </tr>\n",
       "  </tbody>\n",
       "</table>\n",
       "<p>5 rows × 20002 columns</p>\n",
       "</div>"
      ],
      "text/plain": [
       "     0    1    2    3         4    5    6    7    8    9  ...  19992  19993  \\\n",
       "0  0.0  0.0  0.0  0.0  0.000000  0.0  0.0  0.0  0.0  0.0  ...    0.0    0.0   \n",
       "1  0.0  0.0  0.0  0.0  0.000000  0.0  0.0  0.0  0.0  0.0  ...    0.0    0.0   \n",
       "2  0.0  0.0  0.0  0.0  0.000000  0.0  0.0  0.0  0.0  0.0  ...    0.0    0.0   \n",
       "3  0.0  0.0  0.0  0.0  0.037936  0.0  0.0  0.0  0.0  0.0  ...    0.0    0.0   \n",
       "4  0.0  0.0  0.0  0.0  0.000000  0.0  0.0  0.0  0.0  0.0  ...    0.0    0.0   \n",
       "\n",
       "   19994  19995  19996     19997  19998  19999  True label  Predicted label  \n",
       "0    0.0    0.0    0.0  0.000000    0.0    0.0       other                e  \n",
       "1    0.0    0.0    0.0  0.000000    0.0    0.0       other            other  \n",
       "2    0.0    0.0    0.0  0.019745    0.0    0.0           t                t  \n",
       "3    0.0    0.0    0.0  0.000000    0.0    0.0       other            other  \n",
       "4    0.0    0.0    0.0  0.000000    0.0    0.0          te            other  \n",
       "\n",
       "[5 rows x 20002 columns]"
      ]
     },
     "execution_count": 34,
     "metadata": {},
     "output_type": "execute_result"
    }
   ],
   "source": [
    "# Save test data, true labels, and predictions to a CSV\n",
    "test_csv = pd.DataFrame(X_test.toarray())\n",
    "label_map = {v-1: k for k, v in label_tokenizer.word_index.items()}\n",
    "# Map the integer-encoded labels back to their corresponding strings\n",
    "test_csv['True label'] = [label_map[int_encoded_label] for int_encoded_label in y_test]\n",
    "test_csv['Predicted label'] = [label_map[int_encoded_label] for int_encoded_label in preds_test]\n",
    "test_csv.to_csv('Test.csv', index=False)\n",
    "test_csv.head()"
   ]
  },
  {
   "cell_type": "markdown",
   "metadata": {
    "id": "bvAk1JbiAu_3"
   },
   "source": [
    "### Confusion Matrix"
   ]
  },
  {
   "cell_type": "code",
   "execution_count": 35,
   "metadata": {
    "ExecuteTime": {
     "end_time": "2020-11-14T12:09:36.818907Z",
     "start_time": "2020-11-14T12:09:36.804025Z"
    },
    "id": "gW29BcnOnqz4"
   },
   "outputs": [],
   "source": [
    "import numpy as np\n",
    "import matplotlib.pyplot as plt\n",
    "from matplotlib import rc\n",
    "from sklearn.metrics import confusion_matrix\n",
    "\n",
    "def plot_confusion_matrix_inner(y_true, y_pred, classes,\n",
    "                                title=None,\n",
    "                                cmap=plt.cm.binary):\n",
    "\n",
    "    np.set_printoptions(precision=2)\n",
    "    \n",
    "    # Compute confusion matrix\n",
    "    cm = confusion_matrix(y_true, y_pred)\n",
    "\n",
    "    fig, ax = plt.subplots(figsize=(7, 7))\n",
    "    im = ax.imshow(cm, interpolation='nearest', cmap=cmap)\n",
    "    ax.figure.colorbar(im, ax=ax)\n",
    "    \n",
    "    # Show all ticks\n",
    "    ax.set(xticks=np.arange(cm.shape[1]),\n",
    "           yticks=np.arange(cm.shape[0]),\n",
    "           # Label the ticks with the respective list entries\n",
    "           xticklabels=classes, yticklabels=classes,\n",
    "           title=title,\n",
    "           ylabel='True label',\n",
    "           xlabel='Predicted label')\n",
    "\n",
    "    # Rotate the tick labels and set their alignment.\n",
    "    plt.setp(ax.get_xticklabels(), rotation=45, ha=\"right\",\n",
    "             rotation_mode=\"anchor\")\n",
    "    \n",
    "    # Loop over data dimensions and create text annotations.\n",
    "    fmt = 'd'\n",
    "    thresh = cm.max() / 2.\n",
    "    for i in range(cm.shape[0]):\n",
    "        for j in range(cm.shape[1]):\n",
    "            ax.text(j, i, format(cm[i, j], fmt),\n",
    "                    ha=\"center\", va=\"center\",\n",
    "                    color=\"white\" if cm[i, j] > thresh else \"black\")\n",
    "    fig.tight_layout()\n",
    "    \n",
    "    return ax\n",
    "\n",
    "\n",
    "def plot_confusion_matrix(model, X, y, label_tokenizer, title=\"Confusion Matrix on Test Set\"):\n",
    "    y_pred = np.argmax(model.predict(X), axis=-1)\n",
    "    y_true = y  # np.argmax(y, axis=1)\n",
    "\n",
    "    label_map = {v-1: k for k, v in label_tokenizer.word_index.items()}\n",
    "    class_names = [label_map[i] for i in range(8)]\n",
    "    class_names = [\"Other\" if name == \"other\" else name.upper()\n",
    "                   for name in class_names]\n",
    "\n",
    "    plot_confusion_matrix_inner(y_true, y_pred, classes=class_names,\n",
    "                                title=title, cmap=plt.cm.binary)\n",
    "    plt.show()"
   ]
  },
  {
   "cell_type": "code",
   "execution_count": 36,
   "metadata": {
    "ExecuteTime": {
     "end_time": "2020-11-14T12:09:37.614250Z",
     "start_time": "2020-11-14T12:09:36.821365Z"
    },
    "colab": {
     "base_uri": "https://localhost:8080/",
     "height": 558
    },
    "id": "b3UEfrb0obgI",
    "outputId": "3f5139fe-637d-44cc-997a-8f172ac0e3de"
   },
   "outputs": [
    {
     "data": {
      "image/png": "[encoded data removed]",
      "text/plain": [
       "<Figure size 504x504 with 2 Axes>"
      ]
     },
     "metadata": {
      "needs_background": "light"
     },
     "output_type": "display_data"
    }
   ],
   "source": [
    "plot_confusion_matrix(best_model, X_test, y_test, label_tokenizer)\n",
    "# plt.savefig('Confusion Matrix')"
   ]
  },
  {
   "cell_type": "markdown",
   "metadata": {
    "id": "ywWykKnNNvBp"
   },
   "source": [
    "## Precision Recall Accuracy F1-Score Analysis"
   ]
  },
  {
   "cell_type": "code",
   "execution_count": 37,
   "metadata": {
    "ExecuteTime": {
     "end_time": "2020-11-14T12:09:37.622001Z",
     "start_time": "2020-11-14T12:09:37.618443Z"
    }
   },
   "outputs": [],
   "source": [
    "from sklearn.metrics import precision_recall_fscore_support as score\n",
    "from sklearn.metrics import confusion_matrix\n",
    "from sklearn.metrics import f1_score"
   ]
  },
  {
   "cell_type": "code",
   "execution_count": 38,
   "metadata": {
    "ExecuteTime": {
     "end_time": "2020-11-14T12:09:37.638896Z",
     "start_time": "2020-11-14T12:09:37.625982Z"
    }
   },
   "outputs": [],
   "source": [
    "def plot_scores_graph(model, X, y, label_tokenizer):\n",
    "    test_pred = np.argmax(model.predict(X), axis=1)\n",
    "    cm = confusion_matrix(y, test_pred)\n",
    "    cm = cm.astype('float') / cm.sum(axis=1)[:, np.newaxis]\n",
    "    precision, recall, _, _ = score(y, test_pred)\n",
    "    accuracy = cm.diagonal()\n",
    "    f1 = f1_score(y, test_pred, average=None)\n",
    "    label_map = {v-1: k for k, v in label_tokenizer.word_index.items()\n",
    "                 }  # Need the dict\n",
    "    class_names = [label_map[i] for i in range(8)]\n",
    "    class_names = [\"Other\" if name == \"other\" else name.upper()\n",
    "                   for name in class_names]\n",
    "    accuracy = list(map(lambda x: int(round(x, 0)), accuracy*100))\n",
    "    precision = list(map(lambda x: int(round(x, 0)), precision*100))\n",
    "    recall = list(map(lambda x: int(round(x, 0)), recall*100))\n",
    "    f1 = list(map(lambda x: int(round(x, 0)), f1*100))\n",
    "    x = np.arange(len(class_names))  # the label locations\n",
    "    width = 0.21\n",
    "    fig, ax = plt.subplots()\n",
    "    ax.set_ylim(top=100)\n",
    "    rects1 = ax.bar(x - 2*width, accuracy, width, label='Accuracy')\n",
    "    rects2 = ax.bar(x - width, precision, width, label='Precision')\n",
    "    rects3 = ax.bar(x, recall, width, label='Recall')\n",
    "    rects4 = ax.bar(x + width, f1, width, label='F1')\n",
    "    # Add some text for labels, title and custom x-axis tick labels, etc.\n",
    "    ax.set_ylabel('Score (%)')\n",
    "    ax.set_title('Classification metric scores by TED label')\n",
    "    ax.set_xticks(x)\n",
    "    ax.set_xticklabels(class_names)\n",
    "    ax.legend()\n",
    "    fig.tight_layout()\n",
    "    plt.show()"
   ]
  },
  {
   "cell_type": "code",
   "execution_count": 39,
   "metadata": {
    "ExecuteTime": {
     "end_time": "2020-11-14T12:09:38.072515Z",
     "start_time": "2020-11-14T12:09:37.653923Z"
    }
   },
   "outputs": [
    {
     "data": {
      "image/png": "[encoded data removed]",
      "text/plain": [
       "<Figure size 432x288 with 1 Axes>"
      ]
     },
     "metadata": {
      "needs_background": "light"
     },
     "output_type": "display_data"
    }
   ],
   "source": [
    "plot_scores_graph(best_model, X_test, y_test, label_tokenizer)"
   ]
  }
 ],
 "metadata": {
  "accelerator": "GPU",
  "colab": {
   "collapsed_sections": [],
   "name": "TED_Topic_Classification.ipynb",
   "provenance": []
  },
  "kernelspec": {
   "display_name": "Python 3",
   "language": "python",
   "name": "python3"
  },
  "language_info": {
   "codemirror_mode": {
    "name": "ipython",
    "version": 3
   },
   "file_extension": ".py",
   "mimetype": "text/x-python",
   "name": "python",
   "nbconvert_exporter": "python",
   "pygments_lexer": "ipython3",
   "version": "3.8.5"
  }
 },
 "nbformat": 4,
 "nbformat_minor": 1
}
