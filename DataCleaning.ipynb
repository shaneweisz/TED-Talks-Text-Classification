{
 "cells": [
  {
   "cell_type": "markdown",
   "metadata": {},
   "source": [
    "## TED Talk Dataset EDA"
   ],
   "execution_count": null,
   "outputs": []
  },
  {
   "cell_type": "markdown",
   "metadata": {},
   "source": [
    "### Merge main data frame with transcripts"
   ],
   "execution_count": null,
   "outputs": []
  },
  {
   "cell_type": "code",
   "execution_count": null,
   "metadata": {
    "ExecuteTime": {
     "end_time": "2020-11-01T13:43:22.255426Z",
     "start_time": "2020-11-01T13:43:22.250430Z"
    }
   },
   "outputs": [],
   "source": [
    "import pandas as pd"
   ]
  },
  {
   "cell_type": "code",
   "execution_count": null,
   "metadata": {
    "ExecuteTime": {
     "end_time": "2020-11-01T13:43:23.149132Z",
     "start_time": "2020-11-01T13:43:22.754035Z"
    }
   },
   "outputs": [],
   "source": [
    "df_main = pd.read_csv(\"tedtalks/ted_main.csv\")\n",
    "df_transcripts = pd.read_csv(\"tedtalks/transcripts.csv\")"
   ]
  },
  {
   "cell_type": "markdown",
   "metadata": {},
   "source": [
    "Notice there are 2550 rows in the main file, but only 2467 of them have transcripts."
   ],
   "execution_count": null,
   "outputs": []
  },
  {
   "cell_type": "code",
   "execution_count": null,
   "metadata": {
    "ExecuteTime": {
     "end_time": "2020-11-01T13:43:23.161343Z",
     "start_time": "2020-11-01T13:43:23.151447Z"
    }
   },
   "outputs": [],
   "source": [
    "len(df_main), len(df_transcripts)"
   ]
  },
  {
   "cell_type": "markdown",
   "metadata": {},
   "source": [
    "Merge data frames on `url`, since some ted talks in `ted_main.csv` do not have transcripts in `transcripts.csv`."
   ],
   "execution_count": null,
   "outputs": []
  },
  {
   "cell_type": "code",
   "execution_count": null,
   "metadata": {
    "ExecuteTime": {
     "end_time": "2020-11-01T13:43:23.184401Z",
     "start_time": "2020-11-01T13:43:23.167137Z"
    }
   },
   "outputs": [],
   "source": [
    "df_merged = df_main.merge(df_transcripts, how=\"inner\", on=\"url\")"
   ]
  },
  {
   "cell_type": "markdown",
   "metadata": {
    "ExecuteTime": {
     "end_time": "2020-10-24T10:21:15.907405Z",
     "start_time": "2020-10-24T10:21:15.904621Z"
    }
   },
   "source": [
    "### Extract most popular rating class for each TED talk"
   ],
   "execution_count": null,
   "outputs": []
  },
  {
   "cell_type": "markdown",
   "metadata": {},
   "source": [
    "First replace single quotation marks with double quotation marks so that ratings is in appropriate JSON format"
   ],
   "execution_count": null,
   "outputs": []
  },
  {
   "cell_type": "code",
   "execution_count": null,
   "metadata": {
    "ExecuteTime": {
     "end_time": "2020-11-01T13:43:23.366885Z",
     "start_time": "2020-11-01T13:43:23.350562Z"
    }
   },
   "outputs": [],
   "source": [
    "df_merged[\"ratings\"] = df_merged[\"ratings\"].apply(lambda ratings: ratings.replace('\\'', '\\\"'))"
   ]
  },
  {
   "cell_type": "markdown",
   "metadata": {},
   "source": [
    "Now create a new column `highest_rating` with the category that has the most votes for a given TED talk, e.g. Inspiring, Funny, Informative etc."
   ],
   "execution_count": null,
   "outputs": []
  },
  {
   "cell_type": "code",
   "execution_count": null,
   "metadata": {
    "ExecuteTime": {
     "end_time": "2020-11-01T13:43:23.516085Z",
     "start_time": "2020-11-01T13:43:23.512053Z"
    }
   },
   "outputs": [],
   "source": [
    "import json"
   ]
  },
  {
   "cell_type": "code",
   "execution_count": null,
   "metadata": {
    "ExecuteTime": {
     "end_time": "2020-11-01T13:43:23.603398Z",
     "start_time": "2020-11-01T13:43:23.598109Z"
    }
   },
   "outputs": [],
   "source": [
    "def extract_highest_rating(ratings_json):\n",
    "    \"\"\" For a set of ratings for a TED talk in JSON format, \n",
    "        extract the category with the most votes,\n",
    "        e.g. Inspiring, Funny, Informative etc.\"\"\"\n",
    "    \n",
    "    # 1. Read JSON into pandas data frame\n",
    "    ratings_df = pd.read_json(ratings_json)\n",
    "    \n",
    "    # 2. Extract index with most votes\n",
    "    max_index = ratings_df[\"count\"].argmax()\n",
    "    \n",
    "    # 3. Return category with most votes\n",
    "    return ratings_df.iloc[max_index][\"name\"]"
   ]
  },
  {
   "cell_type": "code",
   "execution_count": null,
   "metadata": {
    "ExecuteTime": {
     "end_time": "2020-11-01T13:43:32.180275Z",
     "start_time": "2020-11-01T13:43:23.681409Z"
    }
   },
   "outputs": [],
   "source": [
    "df_merged['highest_rating'] = df_merged[\"ratings\"].apply(extract_highest_rating)"
   ]
  },
  {
   "cell_type": "markdown",
   "metadata": {},
   "source": [
    " View distribution of `highest_rating`"
   ],
   "execution_count": null,
   "outputs": []
  },
  {
   "cell_type": "code",
   "execution_count": null,
   "metadata": {
    "ExecuteTime": {
     "end_time": "2020-11-01T13:43:32.186130Z",
     "start_time": "2020-11-01T13:43:32.182667Z"
    }
   },
   "outputs": [],
   "source": [
    "import matplotlib.pyplot as plt"
   ]
  },
  {
   "cell_type": "code",
   "execution_count": null,
   "metadata": {
    "ExecuteTime": {
     "end_time": "2020-11-01T13:43:32.483621Z",
     "start_time": "2020-11-01T13:43:32.196064Z"
    }
   },
   "outputs": [],
   "source": [
    "(df_merged['highest_rating'].value_counts()/len(df_merged)).sort_values().plot.barh()\n",
    "plt.title(\"Distribution of highest rating categories\");"
   ]
  },
  {
   "cell_type": "markdown",
   "metadata": {},
   "source": [
    "Baseline accuracy (just predicting most popular class) would be 34.5%"
   ],
   "execution_count": null,
   "outputs": []
  },
  {
   "cell_type": "code",
   "execution_count": null,
   "metadata": {
    "ExecuteTime": {
     "end_time": "2020-11-01T13:43:32.495346Z",
     "start_time": "2020-11-01T13:43:32.487675Z"
    }
   },
   "outputs": [],
   "source": [
    "baseline_acc = df_merged['highest_rating'].value_counts().max()/len(df_merged)\n",
    "round(baseline_acc, 4) * 100"
   ]
  },
  {
   "cell_type": "markdown",
   "metadata": {
    "ExecuteTime": {
     "end_time": "2020-10-25T15:41:18.565017Z",
     "start_time": "2020-10-25T15:41:18.544692Z"
    }
   },
   "source": [
    "### Counts of keywords"
   ],
   "execution_count": null,
   "outputs": []
  },
  {
   "cell_type": "code",
   "execution_count": null,
   "metadata": {
    "ExecuteTime": {
     "end_time": "2020-11-01T13:43:33.027984Z",
     "start_time": "2020-11-01T13:43:32.943435Z"
    }
   },
   "outputs": [],
   "source": [
    "from collections import defaultdict\n",
    "tag_counts = defaultdict(int)\n",
    "for tags in df_merged[\"tags\"]:\n",
    "    for tag in eval(tags):\n",
    "        tag_counts[tag] += 1"
   ]
  },
  {
   "cell_type": "code",
   "execution_count": null,
   "metadata": {
    "ExecuteTime": {
     "end_time": "2020-11-01T13:55:16.254754Z",
     "start_time": "2020-11-01T13:55:16.248318Z"
    }
   },
   "outputs": [],
   "source": [
    "tag_counts_df = pd.DataFrame(list(tag_counts.items()), columns=[\"Keyword\", \"Count\"])\n",
    "tag_counts_df = tag_counts_df.sort_values('Count', ascending = False)"
   ]
  },
  {
   "cell_type": "code",
   "execution_count": null,
   "metadata": {
    "ExecuteTime": {
     "end_time": "2020-11-01T14:07:23.978019Z",
     "start_time": "2020-11-01T14:07:23.519675Z"
    }
   },
   "outputs": [],
   "source": [
    "plt.barh(y=tag_counts_df[\"Keyword\"][10::-1], width=tag_counts_df[\"Count\"][10::-1])"
   ]
  },
  {
   "cell_type": "markdown",
   "metadata": {},
   "source": [
    "### Extract TED category for each TED talk\n",
    "\n",
    "This involves finding which of Technology, Entertainment or Design a given TED talk corresponds to, \n",
    "based on its keywords."
   ],
   "execution_count": null,
   "outputs": []
  },
  {
   "cell_type": "code",
   "execution_count": null,
   "metadata": {
    "ExecuteTime": {
     "end_time": "2020-11-01T13:43:32.517387Z",
     "start_time": "2020-11-01T13:43:32.499924Z"
    }
   },
   "outputs": [],
   "source": [
    "def extract_category(tags):\n",
    "    \"\"\" Given a string containing a list of tags, \n",
    "        returns its TED category.\n",
    "        \n",
    "        Sample input: \"['computers', 'entertainment', 'technology']\"\n",
    "        Sample output: ['technology', 'entertainment']\n",
    "    \"\"\"\n",
    "    category_options = ['technology', 'entertainment', 'design']\n",
    "    \n",
    "    tags = eval(tags) # Cast from e.g. \"['a', 'b']\" to ['a', 'b']\n",
    "    tags = [tag.lower() for tag in tags] # Cast all tags to lower case\n",
    "    \n",
    "    category = set(category_options).intersection(tags)\n",
    "    \n",
    "    return sorted(list(category), reverse = True) # Descending order means tech then entertainment then design (i.e. TED order)"
   ]
  },
  {
   "cell_type": "code",
   "execution_count": null,
   "metadata": {
    "ExecuteTime": {
     "end_time": "2020-11-01T13:43:32.644969Z",
     "start_time": "2020-11-01T13:43:32.531241Z"
    }
   },
   "outputs": [],
   "source": [
    "df_merged['category'] = df_merged[\"tags\"].apply(extract_category)"
   ]
  },
  {
   "cell_type": "code",
   "execution_count": null,
   "metadata": {
    "ExecuteTime": {
     "end_time": "2020-11-01T13:43:32.933926Z",
     "start_time": "2020-11-01T13:43:32.647915Z"
    }
   },
   "outputs": [],
   "source": [
    "(df_merged['category'].value_counts()/len(df_merged)).sort_values().plot.barh()\n",
    "plt.title(\"Distribution of categories\");"
   ]
  },
  {
   "cell_type": "markdown",
   "metadata": {},
   "source": [
    "Baseline accuracy (just predicting most popular class) would be 55.25%"
   ],
   "execution_count": null,
   "outputs": []
  },
  {
   "cell_type": "code",
   "execution_count": null,
   "metadata": {
    "ExecuteTime": {
     "end_time": "2020-11-01T14:04:02.696172Z",
     "start_time": "2020-11-01T14:04:02.680822Z"
    }
   },
   "outputs": [],
   "source": [
    "baseline_acc = df_merged['category'].value_counts().max()/len(df_merged)\n",
    "round(baseline_acc, 4) * 100"
   ]
  }
 ],
 "metadata": {
  "kernelspec": {
   "display_name": "Python 3.8.5 64-bit",
   "language": "python",
   "name": "python38564bit9ff6b8d5b58d4fb38753fb8be7967b14"
  },
  "language_info": {
   "codemirror_mode": {
    "name": "ipython",
    "version": 3
   },
   "file_extension": ".py",
   "mimetype": "text/x-python",
   "name": "python",
   "nbconvert_exporter": "python",
   "pygments_lexer": "ipython3",
   "version": "3.8.5"
  }
 },
 "nbformat": 4,
 "nbformat_minor": 4
}