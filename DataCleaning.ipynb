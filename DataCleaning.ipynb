{
 "cells": [
  {
   "cell_type": "markdown",
   "metadata": {},
   "source": [
    "## TED Talk Dataset EDA"
   ]
  },
  {
   "cell_type": "markdown",
   "metadata": {},
   "source": [
    "### Merge main data frame with transcripts"
   ]
  },
  {
   "cell_type": "code",
   "execution_count": 1,
   "metadata": {
    "ExecuteTime": {
     "end_time": "2020-11-03T09:52:54.873661Z",
     "start_time": "2020-11-03T09:52:53.467190Z"
    }
   },
   "outputs": [],
   "source": [
    "import pandas as pd"
   ]
  },
  {
   "cell_type": "code",
   "execution_count": 2,
   "metadata": {
    "ExecuteTime": {
     "end_time": "2020-11-03T09:52:55.347045Z",
     "start_time": "2020-11-03T09:52:54.876528Z"
    }
   },
   "outputs": [],
   "source": [
    "df_main = pd.read_csv(\"tedtalks/ted_main.csv\")\n",
    "df_transcripts = pd.read_csv(\"tedtalks/transcripts.csv\")"
   ]
  },
  {
   "cell_type": "markdown",
   "metadata": {},
   "source": [
    "Notice there are 2550 rows in the main file, but only 2467 of them have transcripts."
   ]
  },
  {
   "cell_type": "code",
   "execution_count": 3,
   "metadata": {
    "ExecuteTime": {
     "end_time": "2020-11-03T09:52:55.363027Z",
     "start_time": "2020-11-03T09:52:55.349697Z"
    }
   },
   "outputs": [
    {
     "data": {
      "text/plain": [
       "(2550, 2467)"
      ]
     },
     "execution_count": 3,
     "metadata": {},
     "output_type": "execute_result"
    }
   ],
   "source": [
    "len(df_main), len(df_transcripts)"
   ]
  },
  {
   "cell_type": "markdown",
   "metadata": {},
   "source": [
    "Merge data frames on `url`, since some ted talks in `ted_main.csv` do not have transcripts in `transcripts.csv`."
   ]
  },
  {
   "cell_type": "code",
   "execution_count": 4,
   "metadata": {
    "ExecuteTime": {
     "end_time": "2020-11-03T09:52:55.383127Z",
     "start_time": "2020-11-03T09:52:55.365771Z"
    }
   },
   "outputs": [],
   "source": [
    "df_merged = df_main.merge(df_transcripts, how=\"inner\", on=\"url\")"
   ]
  },
  {
   "cell_type": "markdown",
   "metadata": {
    "ExecuteTime": {
     "end_time": "2020-10-24T10:21:15.907405Z",
     "start_time": "2020-10-24T10:21:15.904621Z"
    }
   },
   "source": [
    "### Extract most popular rating class for each TED talk"
   ]
  },
  {
   "cell_type": "markdown",
   "metadata": {},
   "source": [
    "First replace single quotation marks with double quotation marks so that ratings is in appropriate JSON format"
   ]
  },
  {
   "cell_type": "code",
   "execution_count": 5,
   "metadata": {
    "ExecuteTime": {
     "end_time": "2020-11-03T09:52:55.416349Z",
     "start_time": "2020-11-03T09:52:55.393998Z"
    }
   },
   "outputs": [],
   "source": [
    "df_merged[\"ratings\"] = df_merged[\"ratings\"].apply(lambda ratings: ratings.replace('\\'', '\\\"'))"
   ]
  },
  {
   "cell_type": "markdown",
   "metadata": {},
   "source": [
    "Now create a new column `highest_rating` with the category that has the most votes for a given TED talk, e.g. Inspiring, Funny, Informative etc."
   ]
  },
  {
   "cell_type": "code",
   "execution_count": 6,
   "metadata": {
    "ExecuteTime": {
     "end_time": "2020-11-03T09:52:55.437204Z",
     "start_time": "2020-11-03T09:52:55.426427Z"
    }
   },
   "outputs": [],
   "source": [
    "import json"
   ]
  },
  {
   "cell_type": "code",
   "execution_count": 7,
   "metadata": {
    "ExecuteTime": {
     "end_time": "2020-11-03T09:52:55.452882Z",
     "start_time": "2020-11-03T09:52:55.440100Z"
    }
   },
   "outputs": [],
   "source": [
    "def extract_highest_rating(ratings_json):\n",
    "    \"\"\" For a set of ratings for a TED talk in JSON format, \n",
    "        extract the category with the most votes,\n",
    "        e.g. Inspiring, Funny, Informative etc.\"\"\"\n",
    "    \n",
    "    # 1. Read JSON into pandas data frame\n",
    "    ratings_df = pd.read_json(ratings_json)\n",
    "    \n",
    "    # 2. Extract index with most votes\n",
    "    max_index = ratings_df[\"count\"].argmax()\n",
    "    \n",
    "    # 3. Return category with most votes\n",
    "    return ratings_df.iloc[max_index][\"name\"]"
   ]
  },
  {
   "cell_type": "code",
   "execution_count": 8,
   "metadata": {
    "ExecuteTime": {
     "end_time": "2020-11-03T09:53:04.392063Z",
     "start_time": "2020-11-03T09:52:55.457305Z"
    }
   },
   "outputs": [],
   "source": [
    "df_merged['highest_rating'] = df_merged[\"ratings\"].apply(extract_highest_rating)"
   ]
  },
  {
   "cell_type": "markdown",
   "metadata": {},
   "source": [
    " View distribution of `highest_rating`"
   ]
  },
  {
   "cell_type": "code",
   "execution_count": 9,
   "metadata": {
    "ExecuteTime": {
     "end_time": "2020-11-03T09:53:05.161620Z",
     "start_time": "2020-11-03T09:53:04.395150Z"
    }
   },
   "outputs": [],
   "source": [
    "import matplotlib.pyplot as plt"
   ]
  },
  {
   "cell_type": "code",
   "execution_count": 10,
   "metadata": {
    "ExecuteTime": {
     "end_time": "2020-11-03T09:53:05.521844Z",
     "start_time": "2020-11-03T09:53:05.163859Z"
    }
   },
   "outputs": [
    {
     "data": {
      "image/png": "[encoded data removed]",
      "text/plain": [
       "<Figure size 432x288 with 1 Axes>"
      ]
     },
     "metadata": {
      "needs_background": "light"
     },
     "output_type": "display_data"
    }
   ],
   "source": [
    "(df_merged['highest_rating'].value_counts()/len(df_merged)).sort_values().plot.barh()\n",
    "plt.title(\"Distribution of highest rating categories\");"
   ]
  },
  {
   "cell_type": "markdown",
   "metadata": {},
   "source": [
    "Baseline accuracy (just predicting most popular class) would be 34.5%"
   ]
  },
  {
   "cell_type": "code",
   "execution_count": 11,
   "metadata": {
    "ExecuteTime": {
     "end_time": "2020-11-03T09:53:05.536324Z",
     "start_time": "2020-11-03T09:53:05.528003Z"
    }
   },
   "outputs": [
    {
     "data": {
      "text/plain": [
       "34.5"
      ]
     },
     "execution_count": 11,
     "metadata": {},
     "output_type": "execute_result"
    }
   ],
   "source": [
    "baseline_acc = df_merged['highest_rating'].value_counts().max()/len(df_merged)\n",
    "round(baseline_acc, 4) * 100"
   ]
  },
  {
   "cell_type": "markdown",
   "metadata": {
    "ExecuteTime": {
     "end_time": "2020-10-25T15:41:18.565017Z",
     "start_time": "2020-10-25T15:41:18.544692Z"
    }
   },
   "source": [
    "### Counts of keywords"
   ]
  },
  {
   "cell_type": "code",
   "execution_count": 12,
   "metadata": {
    "ExecuteTime": {
     "end_time": "2020-11-03T09:53:05.625806Z",
     "start_time": "2020-11-03T09:53:05.539489Z"
    }
   },
   "outputs": [],
   "source": [
    "from collections import defaultdict\n",
    "tag_counts = defaultdict(int)\n",
    "for tags in df_merged[\"tags\"]:\n",
    "    for tag in eval(tags):\n",
    "        tag_counts[tag] += 1"
   ]
  },
  {
   "cell_type": "code",
   "execution_count": 13,
   "metadata": {
    "ExecuteTime": {
     "end_time": "2020-11-03T09:53:05.639048Z",
     "start_time": "2020-11-03T09:53:05.633439Z"
    }
   },
   "outputs": [],
   "source": [
    "tag_counts_df = pd.DataFrame(list(tag_counts.items()), columns=[\"Keyword\", \"Count\"])\n",
    "tag_counts_df = tag_counts_df.sort_values('Count', ascending = False)"
   ]
  },
  {
   "cell_type": "code",
   "execution_count": 14,
   "metadata": {
    "ExecuteTime": {
     "end_time": "2020-11-03T09:53:05.928891Z",
     "start_time": "2020-11-03T09:53:05.641900Z"
    }
   },
   "outputs": [
    {
     "data": {
      "text/plain": [
       "<BarContainer object of 11 artists>"
      ]
     },
     "execution_count": 14,
     "metadata": {},
     "output_type": "execute_result"
    },
    {
     "data": {
      "image/png": "[encoded data removed]",
      "text/plain": [
       "<Figure size 432x288 with 1 Axes>"
      ]
     },
     "metadata": {
      "needs_background": "light"
     },
     "output_type": "display_data"
    }
   ],
   "source": [
    "plt.barh(y=tag_counts_df[\"Keyword\"][10::-1], width=tag_counts_df[\"Count\"][10::-1])"
   ]
  },
  {
   "cell_type": "markdown",
   "metadata": {},
   "source": [
    "### Extract TED category for each TED talk\n",
    "\n",
    "This involves finding which of Technology, Entertainment or Design a given TED talk corresponds to, \n",
    "based on its keywords."
   ]
  },
  {
   "cell_type": "code",
   "execution_count": 15,
   "metadata": {
    "ExecuteTime": {
     "end_time": "2020-11-03T09:53:05.951605Z",
     "start_time": "2020-11-03T09:53:05.935460Z"
    }
   },
   "outputs": [],
   "source": [
    "def extract_category(tags):\n",
    "    \"\"\" Given a string containing a list of tags, \n",
    "        returns its TED category.\n",
    "        \n",
    "        Sample input: \"['computers', 'entertainment', 'technology']\"\n",
    "        Sample output: ['technology', 'entertainment']\n",
    "    \"\"\"\n",
    "    category_options = ['technology', 'entertainment', 'design']\n",
    "    \n",
    "    tags = eval(tags) # Cast from e.g. \"['a', 'b']\" to ['a', 'b']\n",
    "    tags = [tag.lower() for tag in tags] # Cast all tags to lower case\n",
    "    \n",
    "    category = set(category_options).intersection(tags)\n",
    "    \n",
    "    return sorted(list(category), reverse = True) # Descending order means tech then entertainment then design (i.e. TED order)"
   ]
  },
  {
   "cell_type": "code",
   "execution_count": 16,
   "metadata": {
    "ExecuteTime": {
     "end_time": "2020-11-03T09:53:06.045398Z",
     "start_time": "2020-11-03T09:53:05.970758Z"
    }
   },
   "outputs": [],
   "source": [
    "df_merged['category'] = df_merged[\"tags\"].apply(extract_category)"
   ]
  },
  {
   "cell_type": "code",
   "execution_count": 47,
   "metadata": {
    "ExecuteTime": {
     "end_time": "2020-11-03T10:28:16.354900Z",
     "start_time": "2020-11-03T10:28:16.350081Z"
    }
   },
   "outputs": [],
   "source": [
    "def plot_y_distribution(df, percentages=False):\n",
    "    if percentages:\n",
    "        (df['category'].value_counts()/len(df)).sort_values().plot.barh()\n",
    "    else:\n",
    "        df['category'].value_counts().sort_values().plot.barh()\n",
    "    plt.title(\"Distribution of categories\")"
   ]
  },
  {
   "cell_type": "code",
   "execution_count": 48,
   "metadata": {
    "ExecuteTime": {
     "end_time": "2020-11-03T10:28:17.036762Z",
     "start_time": "2020-11-03T10:28:16.798560Z"
    }
   },
   "outputs": [
    {
     "data": {
      "image/png": "[encoded data removed]",
      "text/plain": [
       "<Figure size 432x288 with 1 Axes>"
      ]
     },
     "metadata": {
      "needs_background": "light"
     },
     "output_type": "display_data"
    }
   ],
   "source": [
    "plot_y_distribution(df_merged)"
   ]
  },
  {
   "cell_type": "markdown",
   "metadata": {},
   "source": [
    "Baseline accuracy (just predicting most popular class) would be 55.25%"
   ]
  },
  {
   "cell_type": "code",
   "execution_count": 18,
   "metadata": {
    "ExecuteTime": {
     "end_time": "2020-11-03T09:53:06.277342Z",
     "start_time": "2020-11-03T09:53:06.266379Z"
    }
   },
   "outputs": [
    {
     "data": {
      "text/plain": [
       "55.25"
      ]
     },
     "execution_count": 18,
     "metadata": {},
     "output_type": "execute_result"
    }
   ],
   "source": [
    "baseline_acc = df_merged['category'].value_counts().max()/len(df_merged)\n",
    "round(baseline_acc, 4) * 100"
   ]
  },
  {
   "cell_type": "markdown",
   "metadata": {},
   "source": [
    "### Train-val-test split"
   ]
  },
  {
   "cell_type": "code",
   "execution_count": 25,
   "metadata": {
    "ExecuteTime": {
     "end_time": "2020-11-03T10:17:29.795920Z",
     "start_time": "2020-11-03T10:17:29.762594Z"
    }
   },
   "outputs": [
    {
     "data": {
      "text/html": [
       "<div>\n",
       "<style scoped>\n",
       "    .dataframe tbody tr th:only-of-type {\n",
       "        vertical-align: middle;\n",
       "    }\n",
       "\n",
       "    .dataframe tbody tr th {\n",
       "        vertical-align: top;\n",
       "    }\n",
       "\n",
       "    .dataframe thead th {\n",
       "        text-align: right;\n",
       "    }\n",
       "</style>\n",
       "<table border=\"1\" class=\"dataframe\">\n",
       "  <thead>\n",
       "    <tr style=\"text-align: right;\">\n",
       "      <th></th>\n",
       "      <th>transcript</th>\n",
       "      <th>category</th>\n",
       "    </tr>\n",
       "  </thead>\n",
       "  <tbody>\n",
       "    <tr>\n",
       "      <th>0</th>\n",
       "      <td>Good morning. How are you?(Laughter)It's been ...</td>\n",
       "      <td>[]</td>\n",
       "    </tr>\n",
       "    <tr>\n",
       "      <th>1</th>\n",
       "      <td>Thank you so much, Chris. And it's truly a gre...</td>\n",
       "      <td>[technology]</td>\n",
       "    </tr>\n",
       "    <tr>\n",
       "      <th>2</th>\n",
       "      <td>(Music: \"The Sound of Silence,\" Simon &amp; Garfun...</td>\n",
       "      <td>[technology, entertainment]</td>\n",
       "    </tr>\n",
       "    <tr>\n",
       "      <th>3</th>\n",
       "      <td>If you're here today — and I'm very happy that...</td>\n",
       "      <td>[]</td>\n",
       "    </tr>\n",
       "    <tr>\n",
       "      <th>4</th>\n",
       "      <td>About 10 years ago, I took on the task to teac...</td>\n",
       "      <td>[]</td>\n",
       "    </tr>\n",
       "    <tr>\n",
       "      <th>...</th>\n",
       "      <td>...</td>\n",
       "      <td>...</td>\n",
       "    </tr>\n",
       "    <tr>\n",
       "      <th>2462</th>\n",
       "      <td>So, Ma was trying to explain something to me a...</td>\n",
       "      <td>[]</td>\n",
       "    </tr>\n",
       "    <tr>\n",
       "      <th>2463</th>\n",
       "      <td>This is a picture of a sunset on Mars taken by...</td>\n",
       "      <td>[]</td>\n",
       "    </tr>\n",
       "    <tr>\n",
       "      <th>2464</th>\n",
       "      <td>In my early days as a graduate student, I went...</td>\n",
       "      <td>[]</td>\n",
       "    </tr>\n",
       "    <tr>\n",
       "      <th>2465</th>\n",
       "      <td>I took a cell phone and accidentally made myse...</td>\n",
       "      <td>[]</td>\n",
       "    </tr>\n",
       "    <tr>\n",
       "      <th>2466</th>\n",
       "      <td>We humans are becoming an urban species, so ci...</td>\n",
       "      <td>[design]</td>\n",
       "    </tr>\n",
       "  </tbody>\n",
       "</table>\n",
       "<p>2467 rows × 2 columns</p>\n",
       "</div>"
      ],
      "text/plain": [
       "                                             transcript  \\\n",
       "0     Good morning. How are you?(Laughter)It's been ...   \n",
       "1     Thank you so much, Chris. And it's truly a gre...   \n",
       "2     (Music: \"The Sound of Silence,\" Simon & Garfun...   \n",
       "3     If you're here today — and I'm very happy that...   \n",
       "4     About 10 years ago, I took on the task to teac...   \n",
       "...                                                 ...   \n",
       "2462  So, Ma was trying to explain something to me a...   \n",
       "2463  This is a picture of a sunset on Mars taken by...   \n",
       "2464  In my early days as a graduate student, I went...   \n",
       "2465  I took a cell phone and accidentally made myse...   \n",
       "2466  We humans are becoming an urban species, so ci...   \n",
       "\n",
       "                         category  \n",
       "0                              []  \n",
       "1                    [technology]  \n",
       "2     [technology, entertainment]  \n",
       "3                              []  \n",
       "4                              []  \n",
       "...                           ...  \n",
       "2462                           []  \n",
       "2463                           []  \n",
       "2464                           []  \n",
       "2465                           []  \n",
       "2466                     [design]  \n",
       "\n",
       "[2467 rows x 2 columns]"
      ]
     },
     "execution_count": 25,
     "metadata": {},
     "output_type": "execute_result"
    }
   ],
   "source": [
    "df_all = df_merged[[\"transcript\", \"category\"]]\n",
    "df_all"
   ]
  },
  {
   "cell_type": "code",
   "execution_count": 52,
   "metadata": {
    "ExecuteTime": {
     "end_time": "2020-11-03T10:54:10.218467Z",
     "start_time": "2020-11-03T10:54:10.191256Z"
    }
   },
   "outputs": [
    {
     "data": {
      "text/plain": [
       "(1967, 250, 250)"
      ]
     },
     "execution_count": 52,
     "metadata": {},
     "output_type": "execute_result"
    }
   ],
   "source": [
    "from sklearn.model_selection import train_test_split\n",
    "\n",
    "# Constants\n",
    "RANDOM_STATE = 42\n",
    "VALIDATION_SET_SIZE = 250\n",
    "TEST_SET_SIZE = 250\n",
    "\n",
    "df_train, df_test = train_test_split(df_all, \n",
    "                                     test_size=TEST_SET_SIZE,\n",
    "                                     random_state=RANDOM_STATE,\n",
    "                                     stratify=df_all[\"category\"])\n",
    "df_train, df_val = train_test_split(df_train, \n",
    "                                    test_size=VALIDATION_SET_SIZE,\n",
    "                                    random_state=RANDOM_STATE,\n",
    "                                    stratify=df_train[\"category\"])\n",
    "\n",
    "len(df_train), len(df_val), len(df_test)"
   ]
  },
  {
   "cell_type": "markdown",
   "metadata": {},
   "source": [
    "### Explore data"
   ]
  },
  {
   "cell_type": "code",
   "execution_count": 69,
   "metadata": {
    "ExecuteTime": {
     "end_time": "2020-11-03T11:04:12.018757Z",
     "start_time": "2020-11-03T11:04:12.010832Z"
    }
   },
   "outputs": [],
   "source": [
    "import numpy as np\n",
    "import matplotlib.pyplot as plt\n",
    "\n",
    "def get_num_words_per_sample(sample_texts):\n",
    "    \"\"\"Returns the median number of words per sample given corpus.\n",
    "\n",
    "    # Arguments\n",
    "        sample_texts: list, sample texts.\n",
    "\n",
    "    # Returns\n",
    "        int, median number of words per sample.\n",
    "    \"\"\"\n",
    "    num_words = [len(s.split()) for s in sample_texts]\n",
    "    return np.median(num_words)\n",
    "\n",
    "def plot_sample_length_distribution(sample_texts):\n",
    "    \"\"\"Plots the sample length distribution.\n",
    "\n",
    "    # Arguments\n",
    "        samples_texts: list, sample texts.\n",
    "    \"\"\"\n",
    "    plt.hist([len(s) for s in sample_texts], 50)\n",
    "    plt.xlabel('Length of a sample')\n",
    "    plt.ylabel('Number of samples')\n",
    "    plt.title('Sample length distribution')\n",
    "    plt.show()"
   ]
  },
  {
   "cell_type": "code",
   "execution_count": 70,
   "metadata": {
    "ExecuteTime": {
     "end_time": "2020-11-03T11:04:12.934931Z",
     "start_time": "2020-11-03T11:04:12.916740Z"
    }
   },
   "outputs": [],
   "source": [
    "sample_texts = list(df_all[\"transcript\"])"
   ]
  },
  {
   "cell_type": "code",
   "execution_count": 71,
   "metadata": {
    "ExecuteTime": {
     "end_time": "2020-11-03T11:04:13.513177Z",
     "start_time": "2020-11-03T11:04:13.078689Z"
    }
   },
   "outputs": [
    {
     "data": {
      "text/plain": [
       "2028.0"
      ]
     },
     "execution_count": 71,
     "metadata": {},
     "output_type": "execute_result"
    }
   ],
   "source": [
    "get_num_words_per_sample(sample_texts)"
   ]
  },
  {
   "cell_type": "code",
   "execution_count": 73,
   "metadata": {
    "ExecuteTime": {
     "end_time": "2020-11-03T11:05:15.700916Z",
     "start_time": "2020-11-03T11:05:15.328009Z"
    }
   },
   "outputs": [
    {
     "data": {
      "image/png": "[encoded data removed]",
      "text/plain": [
       "<Figure size 432x288 with 1 Axes>"
      ]
     },
     "metadata": {
      "needs_background": "light"
     },
     "output_type": "display_data"
    }
   ],
   "source": [
    "plot_sample_length_distribution(sample_texts) # Length in characters"
   ]
  }
 ],
 "metadata": {
  "kernelspec": {
   "display_name": "Python 3.8.5 64-bit",
   "language": "python",
   "name": "python38564bit9ff6b8d5b58d4fb38753fb8be7967b14"
  },
  "language_info": {
   "codemirror_mode": {
    "name": "ipython",
    "version": 3
   },
   "file_extension": ".py",
   "mimetype": "text/x-python",
   "name": "python",
   "nbconvert_exporter": "python",
   "pygments_lexer": "ipython3",
   "version": "3.8.5"
  }
 },
 "nbformat": 4,
 "nbformat_minor": 4
}
